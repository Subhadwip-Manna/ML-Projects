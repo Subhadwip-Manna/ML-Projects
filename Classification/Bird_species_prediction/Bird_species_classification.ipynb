{
 "cells": [
  {
   "cell_type": "code",
   "execution_count": 318,
   "id": "2954dd8f",
   "metadata": {},
   "outputs": [],
   "source": [
    "import pandas as pd\n",
    "import warnings\n",
    "warnings.filterwarnings(\"ignore\")\n",
    "from sklearn.datasets import load_files\n",
    "import numpy as np\n",
    "import matplotlib.pyplot as plt\n",
    "import seaborn as sns\n",
    "from sklearn.preprocessing import LabelEncoder,StandardScaler,normalize\n",
    "from imblearn.over_sampling import SMOTE\n",
    "from sklearn.model_selection import train_test_split,KFold,GridSearchCV,cross_val_score\n",
    "\n",
    "from sklearn.metrics import precision_score,accuracy_score,f1_score,recall_score\n",
    "\n",
    "from sklearn.linear_model import LogisticRegression\n",
    "from sklearn.naive_bayes import GaussianNB\n",
    "from sklearn.tree import DecisionTreeClassifier\n",
    "from sklearn import tree\n",
    "from sklearn.ensemble import RandomForestClassifier,AdaBoostClassifier,StackingClassifier\n",
    "\n",
    "from sklearn.neighbors import KNeighborsClassifier\n",
    "\n",
    "from sklearn.svm import SVC"
   ]
  },
  {
   "cell_type": "code",
   "execution_count": 414,
   "id": "5606ccec",
   "metadata": {},
   "outputs": [
    {
     "data": {
      "text/html": [
       "<div>\n",
       "<style scoped>\n",
       "    .dataframe tbody tr th:only-of-type {\n",
       "        vertical-align: middle;\n",
       "    }\n",
       "\n",
       "    .dataframe tbody tr th {\n",
       "        vertical-align: top;\n",
       "    }\n",
       "\n",
       "    .dataframe thead th {\n",
       "        text-align: right;\n",
       "    }\n",
       "</style>\n",
       "<table border=\"1\" class=\"dataframe\">\n",
       "  <thead>\n",
       "    <tr style=\"text-align: right;\">\n",
       "      <th></th>\n",
       "      <th>bill_depth</th>\n",
       "      <th>bill_length</th>\n",
       "      <th>wing_length</th>\n",
       "      <th>location</th>\n",
       "      <th>mass</th>\n",
       "      <th>sex</th>\n",
       "      <th>ID</th>\n",
       "    </tr>\n",
       "  </thead>\n",
       "  <tbody>\n",
       "    <tr>\n",
       "      <th>0</th>\n",
       "      <td>14.300000</td>\n",
       "      <td>48.200000</td>\n",
       "      <td>210.000000</td>\n",
       "      <td>loc_2</td>\n",
       "      <td>4600.0</td>\n",
       "      <td>0.0</td>\n",
       "      <td>284</td>\n",
       "    </tr>\n",
       "    <tr>\n",
       "      <th>1</th>\n",
       "      <td>14.400000</td>\n",
       "      <td>48.400000</td>\n",
       "      <td>203.000000</td>\n",
       "      <td>loc_2</td>\n",
       "      <td>4625.0</td>\n",
       "      <td>0.0</td>\n",
       "      <td>101</td>\n",
       "    </tr>\n",
       "    <tr>\n",
       "      <th>2</th>\n",
       "      <td>18.400000</td>\n",
       "      <td>NaN</td>\n",
       "      <td>200.000000</td>\n",
       "      <td>loc_3</td>\n",
       "      <td>3400.0</td>\n",
       "      <td>0.0</td>\n",
       "      <td>400</td>\n",
       "    </tr>\n",
       "    <tr>\n",
       "      <th>3</th>\n",
       "      <td>14.982114</td>\n",
       "      <td>47.504878</td>\n",
       "      <td>NaN</td>\n",
       "      <td>NaN</td>\n",
       "      <td>4800.0</td>\n",
       "      <td>0.0</td>\n",
       "      <td>98</td>\n",
       "    </tr>\n",
       "    <tr>\n",
       "      <th>4</th>\n",
       "      <td>18.982114</td>\n",
       "      <td>38.259307</td>\n",
       "      <td>217.186992</td>\n",
       "      <td>loc_3</td>\n",
       "      <td>5200.0</td>\n",
       "      <td>0.0</td>\n",
       "      <td>103</td>\n",
       "    </tr>\n",
       "    <tr>\n",
       "      <th>...</th>\n",
       "      <td>...</td>\n",
       "      <td>...</td>\n",
       "      <td>...</td>\n",
       "      <td>...</td>\n",
       "      <td>...</td>\n",
       "      <td>...</td>\n",
       "      <td>...</td>\n",
       "    </tr>\n",
       "    <tr>\n",
       "      <th>430</th>\n",
       "      <td>17.000000</td>\n",
       "      <td>48.833824</td>\n",
       "      <td>196.000000</td>\n",
       "      <td>NaN</td>\n",
       "      <td>3500.0</td>\n",
       "      <td>1.0</td>\n",
       "      <td>45</td>\n",
       "    </tr>\n",
       "    <tr>\n",
       "      <th>431</th>\n",
       "      <td>17.100000</td>\n",
       "      <td>NaN</td>\n",
       "      <td>193.000000</td>\n",
       "      <td>loc_3</td>\n",
       "      <td>3400.0</td>\n",
       "      <td>0.0</td>\n",
       "      <td>398</td>\n",
       "    </tr>\n",
       "    <tr>\n",
       "      <th>432</th>\n",
       "      <td>19.400000</td>\n",
       "      <td>NaN</td>\n",
       "      <td>NaN</td>\n",
       "      <td>loc_1</td>\n",
       "      <td>3900.0</td>\n",
       "      <td>1.0</td>\n",
       "      <td>156</td>\n",
       "    </tr>\n",
       "    <tr>\n",
       "      <th>433</th>\n",
       "      <td>16.600000</td>\n",
       "      <td>55.512336</td>\n",
       "      <td>187.000000</td>\n",
       "      <td>loc_2</td>\n",
       "      <td>2900.0</td>\n",
       "      <td>NaN</td>\n",
       "      <td>47</td>\n",
       "    </tr>\n",
       "    <tr>\n",
       "      <th>434</th>\n",
       "      <td>18.900000</td>\n",
       "      <td>NaN</td>\n",
       "      <td>NaN</td>\n",
       "      <td>loc_3</td>\n",
       "      <td>4300.0</td>\n",
       "      <td>1.0</td>\n",
       "      <td>92</td>\n",
       "    </tr>\n",
       "  </tbody>\n",
       "</table>\n",
       "<p>435 rows × 7 columns</p>\n",
       "</div>"
      ],
      "text/plain": [
       "     bill_depth  bill_length  wing_length location    mass  sex   ID\n",
       "0     14.300000    48.200000   210.000000    loc_2  4600.0  0.0  284\n",
       "1     14.400000    48.400000   203.000000    loc_2  4625.0  0.0  101\n",
       "2     18.400000          NaN   200.000000    loc_3  3400.0  0.0  400\n",
       "3     14.982114    47.504878          NaN      NaN  4800.0  0.0   98\n",
       "4     18.982114    38.259307   217.186992    loc_3  5200.0  0.0  103\n",
       "..          ...          ...          ...      ...     ...  ...  ...\n",
       "430   17.000000    48.833824   196.000000      NaN  3500.0  1.0   45\n",
       "431   17.100000          NaN   193.000000    loc_3  3400.0  0.0  398\n",
       "432   19.400000          NaN          NaN    loc_1  3900.0  1.0  156\n",
       "433   16.600000    55.512336   187.000000    loc_2  2900.0  NaN   47\n",
       "434   18.900000          NaN          NaN    loc_3  4300.0  1.0   92\n",
       "\n",
       "[435 rows x 7 columns]"
      ]
     },
     "execution_count": 414,
     "metadata": {},
     "output_type": "execute_result"
    }
   ],
   "source": [
    "data=pd.read_csv(\"E:\\\\NIIT\\\\Bitgrit\\\\Bird Species Classification Dataset\\\\Dataset\\\\training_set\\\\training_set.csv\")\n",
    "data"
   ]
  },
  {
   "cell_type": "code",
   "execution_count": 415,
   "id": "52e2251b",
   "metadata": {},
   "outputs": [
    {
     "data": {
      "text/html": [
       "<div>\n",
       "<style scoped>\n",
       "    .dataframe tbody tr th:only-of-type {\n",
       "        vertical-align: middle;\n",
       "    }\n",
       "\n",
       "    .dataframe tbody tr th {\n",
       "        vertical-align: top;\n",
       "    }\n",
       "\n",
       "    .dataframe thead th {\n",
       "        text-align: right;\n",
       "    }\n",
       "</style>\n",
       "<table border=\"1\" class=\"dataframe\">\n",
       "  <thead>\n",
       "    <tr style=\"text-align: right;\">\n",
       "      <th></th>\n",
       "      <th>ID</th>\n",
       "      <th>species</th>\n",
       "    </tr>\n",
       "  </thead>\n",
       "  <tbody>\n",
       "    <tr>\n",
       "      <th>0</th>\n",
       "      <td>284</td>\n",
       "      <td>C</td>\n",
       "    </tr>\n",
       "    <tr>\n",
       "      <th>1</th>\n",
       "      <td>101</td>\n",
       "      <td>C</td>\n",
       "    </tr>\n",
       "    <tr>\n",
       "      <th>2</th>\n",
       "      <td>400</td>\n",
       "      <td>B</td>\n",
       "    </tr>\n",
       "    <tr>\n",
       "      <th>3</th>\n",
       "      <td>98</td>\n",
       "      <td>C</td>\n",
       "    </tr>\n",
       "    <tr>\n",
       "      <th>4</th>\n",
       "      <td>103</td>\n",
       "      <td>C</td>\n",
       "    </tr>\n",
       "    <tr>\n",
       "      <th>...</th>\n",
       "      <td>...</td>\n",
       "      <td>...</td>\n",
       "    </tr>\n",
       "    <tr>\n",
       "      <th>430</th>\n",
       "      <td>45</td>\n",
       "      <td>B</td>\n",
       "    </tr>\n",
       "    <tr>\n",
       "      <th>431</th>\n",
       "      <td>398</td>\n",
       "      <td>A</td>\n",
       "    </tr>\n",
       "    <tr>\n",
       "      <th>432</th>\n",
       "      <td>156</td>\n",
       "      <td>A</td>\n",
       "    </tr>\n",
       "    <tr>\n",
       "      <th>433</th>\n",
       "      <td>47</td>\n",
       "      <td>B</td>\n",
       "    </tr>\n",
       "    <tr>\n",
       "      <th>434</th>\n",
       "      <td>92</td>\n",
       "      <td>A</td>\n",
       "    </tr>\n",
       "  </tbody>\n",
       "</table>\n",
       "<p>435 rows × 2 columns</p>\n",
       "</div>"
      ],
      "text/plain": [
       "      ID species\n",
       "0    284       C\n",
       "1    101       C\n",
       "2    400       B\n",
       "3     98       C\n",
       "4    103       C\n",
       "..   ...     ...\n",
       "430   45       B\n",
       "431  398       A\n",
       "432  156       A\n",
       "433   47       B\n",
       "434   92       A\n",
       "\n",
       "[435 rows x 2 columns]"
      ]
     },
     "execution_count": 415,
     "metadata": {},
     "output_type": "execute_result"
    }
   ],
   "source": [
    "target=pd.read_csv(\"E:\\\\NIIT\\\\Bitgrit\\\\Bird Species Classification Dataset\\\\Dataset\\\\training_set\\\\training_target.csv\")\n",
    "target"
   ]
  },
  {
   "cell_type": "code",
   "execution_count": 417,
   "id": "c55f1ac6",
   "metadata": {},
   "outputs": [
    {
     "data": {
      "text/html": [
       "<div>\n",
       "<style scoped>\n",
       "    .dataframe tbody tr th:only-of-type {\n",
       "        vertical-align: middle;\n",
       "    }\n",
       "\n",
       "    .dataframe tbody tr th {\n",
       "        vertical-align: top;\n",
       "    }\n",
       "\n",
       "    .dataframe thead th {\n",
       "        text-align: right;\n",
       "    }\n",
       "</style>\n",
       "<table border=\"1\" class=\"dataframe\">\n",
       "  <thead>\n",
       "    <tr style=\"text-align: right;\">\n",
       "      <th></th>\n",
       "      <th>ID</th>\n",
       "      <th>species</th>\n",
       "    </tr>\n",
       "  </thead>\n",
       "  <tbody>\n",
       "    <tr>\n",
       "      <th>420</th>\n",
       "      <td>1</td>\n",
       "      <td>C</td>\n",
       "    </tr>\n",
       "    <tr>\n",
       "      <th>355</th>\n",
       "      <td>3</td>\n",
       "      <td>A</td>\n",
       "    </tr>\n",
       "    <tr>\n",
       "      <th>10</th>\n",
       "      <td>4</td>\n",
       "      <td>C</td>\n",
       "    </tr>\n",
       "    <tr>\n",
       "      <th>184</th>\n",
       "      <td>6</td>\n",
       "      <td>C</td>\n",
       "    </tr>\n",
       "    <tr>\n",
       "      <th>48</th>\n",
       "      <td>10</td>\n",
       "      <td>C</td>\n",
       "    </tr>\n",
       "    <tr>\n",
       "      <th>...</th>\n",
       "      <td>...</td>\n",
       "      <td>...</td>\n",
       "    </tr>\n",
       "    <tr>\n",
       "      <th>61</th>\n",
       "      <td>539</td>\n",
       "      <td>C</td>\n",
       "    </tr>\n",
       "    <tr>\n",
       "      <th>384</th>\n",
       "      <td>540</td>\n",
       "      <td>B</td>\n",
       "    </tr>\n",
       "    <tr>\n",
       "      <th>119</th>\n",
       "      <td>542</td>\n",
       "      <td>C</td>\n",
       "    </tr>\n",
       "    <tr>\n",
       "      <th>144</th>\n",
       "      <td>543</td>\n",
       "      <td>C</td>\n",
       "    </tr>\n",
       "    <tr>\n",
       "      <th>279</th>\n",
       "      <td>544</td>\n",
       "      <td>C</td>\n",
       "    </tr>\n",
       "  </tbody>\n",
       "</table>\n",
       "<p>435 rows × 2 columns</p>\n",
       "</div>"
      ],
      "text/plain": [
       "      ID species\n",
       "420    1       C\n",
       "355    3       A\n",
       "10     4       C\n",
       "184    6       C\n",
       "48    10       C\n",
       "..   ...     ...\n",
       "61   539       C\n",
       "384  540       B\n",
       "119  542       C\n",
       "144  543       C\n",
       "279  544       C\n",
       "\n",
       "[435 rows x 2 columns]"
      ]
     },
     "execution_count": 417,
     "metadata": {},
     "output_type": "execute_result"
    }
   ],
   "source": [
    "target.sort_values(\"ID\")"
   ]
  },
  {
   "cell_type": "code",
   "execution_count": 321,
   "id": "ebe64b9e",
   "metadata": {},
   "outputs": [],
   "source": [
    "test_data=pd.read_csv(\"E:\\\\NIIT\\\\Bitgrit\\\\Bird Species Classification Dataset\\\\Dataset\\\\test_set\\\\test_set.csv\")\n",
    "test_result=pd.read_csv(\"E:\\\\NIIT\\\\Bitgrit\\\\Bird Species Classification Dataset\\\\Dataset\\\\solution_format.csv\")"
   ]
  },
  {
   "cell_type": "code",
   "execution_count": 322,
   "id": "697d8313",
   "metadata": {},
   "outputs": [
    {
     "data": {
      "text/html": [
       "<div>\n",
       "<style scoped>\n",
       "    .dataframe tbody tr th:only-of-type {\n",
       "        vertical-align: middle;\n",
       "    }\n",
       "\n",
       "    .dataframe tbody tr th {\n",
       "        vertical-align: top;\n",
       "    }\n",
       "\n",
       "    .dataframe thead th {\n",
       "        text-align: right;\n",
       "    }\n",
       "</style>\n",
       "<table border=\"1\" class=\"dataframe\">\n",
       "  <thead>\n",
       "    <tr style=\"text-align: right;\">\n",
       "      <th></th>\n",
       "      <th>bill_depth</th>\n",
       "      <th>bill_length</th>\n",
       "      <th>wing_length</th>\n",
       "      <th>location</th>\n",
       "      <th>mass</th>\n",
       "      <th>sex</th>\n",
       "      <th>ID</th>\n",
       "    </tr>\n",
       "  </thead>\n",
       "  <tbody>\n",
       "    <tr>\n",
       "      <th>0</th>\n",
       "      <td>14.982114</td>\n",
       "      <td>38.259307</td>\n",
       "      <td>217.186992</td>\n",
       "      <td>loc_2</td>\n",
       "      <td>5400.0</td>\n",
       "      <td>0.0</td>\n",
       "      <td>2</td>\n",
       "    </tr>\n",
       "    <tr>\n",
       "      <th>1</th>\n",
       "      <td>13.200000</td>\n",
       "      <td>46.100000</td>\n",
       "      <td>211.000000</td>\n",
       "      <td>loc_2</td>\n",
       "      <td>4500.0</td>\n",
       "      <td>0.0</td>\n",
       "      <td>5</td>\n",
       "    </tr>\n",
       "    <tr>\n",
       "      <th>2</th>\n",
       "      <td>20.000000</td>\n",
       "      <td>NaN</td>\n",
       "      <td>197.000000</td>\n",
       "      <td>loc_3</td>\n",
       "      <td>3300.0</td>\n",
       "      <td>1.0</td>\n",
       "      <td>7</td>\n",
       "    </tr>\n",
       "    <tr>\n",
       "      <th>3</th>\n",
       "      <td>17.500000</td>\n",
       "      <td>38.791391</td>\n",
       "      <td>190.000000</td>\n",
       "      <td>loc_3</td>\n",
       "      <td>3900.0</td>\n",
       "      <td>NaN</td>\n",
       "      <td>8</td>\n",
       "    </tr>\n",
       "    <tr>\n",
       "      <th>4</th>\n",
       "      <td>18.900000</td>\n",
       "      <td>NaN</td>\n",
       "      <td>184.000000</td>\n",
       "      <td>loc_2</td>\n",
       "      <td>3550.0</td>\n",
       "      <td>1.0</td>\n",
       "      <td>9</td>\n",
       "    </tr>\n",
       "    <tr>\n",
       "      <th>...</th>\n",
       "      <td>...</td>\n",
       "      <td>...</td>\n",
       "      <td>...</td>\n",
       "      <td>...</td>\n",
       "      <td>...</td>\n",
       "      <td>...</td>\n",
       "      <td>...</td>\n",
       "    </tr>\n",
       "    <tr>\n",
       "      <th>104</th>\n",
       "      <td>19.000000</td>\n",
       "      <td>NaN</td>\n",
       "      <td>NaN</td>\n",
       "      <td>loc_1</td>\n",
       "      <td>3600.0</td>\n",
       "      <td>0.0</td>\n",
       "      <td>507</td>\n",
       "    </tr>\n",
       "    <tr>\n",
       "      <th>105</th>\n",
       "      <td>18.000000</td>\n",
       "      <td>NaN</td>\n",
       "      <td>210.000000</td>\n",
       "      <td>loc_1</td>\n",
       "      <td>4000.0</td>\n",
       "      <td>1.0</td>\n",
       "      <td>512</td>\n",
       "    </tr>\n",
       "    <tr>\n",
       "      <th>106</th>\n",
       "      <td>19.500000</td>\n",
       "      <td>49.000000</td>\n",
       "      <td>210.000000</td>\n",
       "      <td>loc_3</td>\n",
       "      <td>3950.0</td>\n",
       "      <td>1.0</td>\n",
       "      <td>516</td>\n",
       "    </tr>\n",
       "    <tr>\n",
       "      <th>107</th>\n",
       "      <td>17.900000</td>\n",
       "      <td>50.100000</td>\n",
       "      <td>190.000000</td>\n",
       "      <td>loc_3</td>\n",
       "      <td>3400.0</td>\n",
       "      <td>0.0</td>\n",
       "      <td>533</td>\n",
       "    </tr>\n",
       "    <tr>\n",
       "      <th>108</th>\n",
       "      <td>14.982114</td>\n",
       "      <td>38.259307</td>\n",
       "      <td>NaN</td>\n",
       "      <td>loc_3</td>\n",
       "      <td>5550.0</td>\n",
       "      <td>NaN</td>\n",
       "      <td>541</td>\n",
       "    </tr>\n",
       "  </tbody>\n",
       "</table>\n",
       "<p>109 rows × 7 columns</p>\n",
       "</div>"
      ],
      "text/plain": [
       "     bill_depth  bill_length  wing_length location    mass  sex   ID\n",
       "0     14.982114    38.259307   217.186992    loc_2  5400.0  0.0    2\n",
       "1     13.200000    46.100000   211.000000    loc_2  4500.0  0.0    5\n",
       "2     20.000000          NaN   197.000000    loc_3  3300.0  1.0    7\n",
       "3     17.500000    38.791391   190.000000    loc_3  3900.0  NaN    8\n",
       "4     18.900000          NaN   184.000000    loc_2  3550.0  1.0    9\n",
       "..          ...          ...          ...      ...     ...  ...  ...\n",
       "104   19.000000          NaN          NaN    loc_1  3600.0  0.0  507\n",
       "105   18.000000          NaN   210.000000    loc_1  4000.0  1.0  512\n",
       "106   19.500000    49.000000   210.000000    loc_3  3950.0  1.0  516\n",
       "107   17.900000    50.100000   190.000000    loc_3  3400.0  0.0  533\n",
       "108   14.982114    38.259307          NaN    loc_3  5550.0  NaN  541\n",
       "\n",
       "[109 rows x 7 columns]"
      ]
     },
     "execution_count": 322,
     "metadata": {},
     "output_type": "execute_result"
    }
   ],
   "source": [
    "test_data"
   ]
  },
  {
   "cell_type": "code",
   "execution_count": 323,
   "id": "8c92fb71",
   "metadata": {},
   "outputs": [
    {
     "data": {
      "text/html": [
       "<div>\n",
       "<style scoped>\n",
       "    .dataframe tbody tr th:only-of-type {\n",
       "        vertical-align: middle;\n",
       "    }\n",
       "\n",
       "    .dataframe tbody tr th {\n",
       "        vertical-align: top;\n",
       "    }\n",
       "\n",
       "    .dataframe thead th {\n",
       "        text-align: right;\n",
       "    }\n",
       "</style>\n",
       "<table border=\"1\" class=\"dataframe\">\n",
       "  <thead>\n",
       "    <tr style=\"text-align: right;\">\n",
       "      <th></th>\n",
       "      <th>ID</th>\n",
       "      <th>species</th>\n",
       "    </tr>\n",
       "  </thead>\n",
       "  <tbody>\n",
       "    <tr>\n",
       "      <th>0</th>\n",
       "      <td>2</td>\n",
       "      <td>A</td>\n",
       "    </tr>\n",
       "    <tr>\n",
       "      <th>1</th>\n",
       "      <td>5</td>\n",
       "      <td>C</td>\n",
       "    </tr>\n",
       "    <tr>\n",
       "      <th>2</th>\n",
       "      <td>7</td>\n",
       "      <td>C</td>\n",
       "    </tr>\n",
       "    <tr>\n",
       "      <th>3</th>\n",
       "      <td>8</td>\n",
       "      <td>B</td>\n",
       "    </tr>\n",
       "    <tr>\n",
       "      <th>4</th>\n",
       "      <td>9</td>\n",
       "      <td>C</td>\n",
       "    </tr>\n",
       "    <tr>\n",
       "      <th>...</th>\n",
       "      <td>...</td>\n",
       "      <td>...</td>\n",
       "    </tr>\n",
       "    <tr>\n",
       "      <th>104</th>\n",
       "      <td>507</td>\n",
       "      <td>A</td>\n",
       "    </tr>\n",
       "    <tr>\n",
       "      <th>105</th>\n",
       "      <td>512</td>\n",
       "      <td>C</td>\n",
       "    </tr>\n",
       "    <tr>\n",
       "      <th>106</th>\n",
       "      <td>516</td>\n",
       "      <td>A</td>\n",
       "    </tr>\n",
       "    <tr>\n",
       "      <th>107</th>\n",
       "      <td>533</td>\n",
       "      <td>C</td>\n",
       "    </tr>\n",
       "    <tr>\n",
       "      <th>108</th>\n",
       "      <td>541</td>\n",
       "      <td>A</td>\n",
       "    </tr>\n",
       "  </tbody>\n",
       "</table>\n",
       "<p>109 rows × 2 columns</p>\n",
       "</div>"
      ],
      "text/plain": [
       "      ID species\n",
       "0      2       A\n",
       "1      5       C\n",
       "2      7       C\n",
       "3      8       B\n",
       "4      9       C\n",
       "..   ...     ...\n",
       "104  507       A\n",
       "105  512       C\n",
       "106  516       A\n",
       "107  533       C\n",
       "108  541       A\n",
       "\n",
       "[109 rows x 2 columns]"
      ]
     },
     "execution_count": 323,
     "metadata": {},
     "output_type": "execute_result"
    }
   ],
   "source": [
    "test_result"
   ]
  },
  {
   "cell_type": "code",
   "execution_count": 324,
   "id": "43e56ad5",
   "metadata": {},
   "outputs": [
    {
     "data": {
      "text/plain": [
       "array(['C', 'C', 'B', 'A', 'C', 'C', 'A', 'A', 'B', 'C', 'A', 'C', 'C',\n",
       "       'C', 'C', 'C', 'C', 'C', 'C', 'B', 'B', 'C', 'C', 'B', 'B', 'C',\n",
       "       'B', 'A', 'C', 'A', 'C', 'C', 'B', 'A', 'A', 'C', 'C', 'B', 'B',\n",
       "       'B'], dtype=object)"
      ]
     },
     "execution_count": 324,
     "metadata": {},
     "output_type": "execute_result"
    }
   ],
   "source": [
    "y_pred"
   ]
  },
  {
   "cell_type": "markdown",
   "id": "b65300d3",
   "metadata": {},
   "source": [
    "## -----------------------------------------------------------------------------------------------------------------------------"
   ]
  },
  {
   "cell_type": "code",
   "execution_count": 325,
   "id": "7e370950",
   "metadata": {},
   "outputs": [
    {
     "data": {
      "text/html": [
       "<div>\n",
       "<style scoped>\n",
       "    .dataframe tbody tr th:only-of-type {\n",
       "        vertical-align: middle;\n",
       "    }\n",
       "\n",
       "    .dataframe tbody tr th {\n",
       "        vertical-align: top;\n",
       "    }\n",
       "\n",
       "    .dataframe thead th {\n",
       "        text-align: right;\n",
       "    }\n",
       "</style>\n",
       "<table border=\"1\" class=\"dataframe\">\n",
       "  <thead>\n",
       "    <tr style=\"text-align: right;\">\n",
       "      <th></th>\n",
       "      <th>ID</th>\n",
       "      <th>bill_depth</th>\n",
       "      <th>bill_length</th>\n",
       "      <th>wing_length</th>\n",
       "      <th>location</th>\n",
       "      <th>mass</th>\n",
       "      <th>sex</th>\n",
       "      <th>species</th>\n",
       "    </tr>\n",
       "  </thead>\n",
       "  <tbody>\n",
       "    <tr>\n",
       "      <th>0</th>\n",
       "      <td>284</td>\n",
       "      <td>14.300000</td>\n",
       "      <td>48.200000</td>\n",
       "      <td>210.000000</td>\n",
       "      <td>loc_2</td>\n",
       "      <td>4600.0</td>\n",
       "      <td>0.0</td>\n",
       "      <td>C</td>\n",
       "    </tr>\n",
       "    <tr>\n",
       "      <th>1</th>\n",
       "      <td>101</td>\n",
       "      <td>14.400000</td>\n",
       "      <td>48.400000</td>\n",
       "      <td>203.000000</td>\n",
       "      <td>loc_2</td>\n",
       "      <td>4625.0</td>\n",
       "      <td>0.0</td>\n",
       "      <td>C</td>\n",
       "    </tr>\n",
       "    <tr>\n",
       "      <th>2</th>\n",
       "      <td>400</td>\n",
       "      <td>18.400000</td>\n",
       "      <td>NaN</td>\n",
       "      <td>200.000000</td>\n",
       "      <td>loc_3</td>\n",
       "      <td>3400.0</td>\n",
       "      <td>0.0</td>\n",
       "      <td>B</td>\n",
       "    </tr>\n",
       "    <tr>\n",
       "      <th>3</th>\n",
       "      <td>98</td>\n",
       "      <td>14.982114</td>\n",
       "      <td>47.504878</td>\n",
       "      <td>NaN</td>\n",
       "      <td>NaN</td>\n",
       "      <td>4800.0</td>\n",
       "      <td>0.0</td>\n",
       "      <td>C</td>\n",
       "    </tr>\n",
       "    <tr>\n",
       "      <th>4</th>\n",
       "      <td>103</td>\n",
       "      <td>18.982114</td>\n",
       "      <td>38.259307</td>\n",
       "      <td>217.186992</td>\n",
       "      <td>loc_3</td>\n",
       "      <td>5200.0</td>\n",
       "      <td>0.0</td>\n",
       "      <td>C</td>\n",
       "    </tr>\n",
       "    <tr>\n",
       "      <th>...</th>\n",
       "      <td>...</td>\n",
       "      <td>...</td>\n",
       "      <td>...</td>\n",
       "      <td>...</td>\n",
       "      <td>...</td>\n",
       "      <td>...</td>\n",
       "      <td>...</td>\n",
       "      <td>...</td>\n",
       "    </tr>\n",
       "    <tr>\n",
       "      <th>430</th>\n",
       "      <td>45</td>\n",
       "      <td>17.000000</td>\n",
       "      <td>48.833824</td>\n",
       "      <td>196.000000</td>\n",
       "      <td>NaN</td>\n",
       "      <td>3500.0</td>\n",
       "      <td>1.0</td>\n",
       "      <td>B</td>\n",
       "    </tr>\n",
       "    <tr>\n",
       "      <th>431</th>\n",
       "      <td>398</td>\n",
       "      <td>17.100000</td>\n",
       "      <td>NaN</td>\n",
       "      <td>193.000000</td>\n",
       "      <td>loc_3</td>\n",
       "      <td>3400.0</td>\n",
       "      <td>0.0</td>\n",
       "      <td>A</td>\n",
       "    </tr>\n",
       "    <tr>\n",
       "      <th>432</th>\n",
       "      <td>156</td>\n",
       "      <td>19.400000</td>\n",
       "      <td>NaN</td>\n",
       "      <td>NaN</td>\n",
       "      <td>loc_1</td>\n",
       "      <td>3900.0</td>\n",
       "      <td>1.0</td>\n",
       "      <td>A</td>\n",
       "    </tr>\n",
       "    <tr>\n",
       "      <th>433</th>\n",
       "      <td>47</td>\n",
       "      <td>16.600000</td>\n",
       "      <td>55.512336</td>\n",
       "      <td>187.000000</td>\n",
       "      <td>loc_2</td>\n",
       "      <td>2900.0</td>\n",
       "      <td>NaN</td>\n",
       "      <td>B</td>\n",
       "    </tr>\n",
       "    <tr>\n",
       "      <th>434</th>\n",
       "      <td>92</td>\n",
       "      <td>18.900000</td>\n",
       "      <td>NaN</td>\n",
       "      <td>NaN</td>\n",
       "      <td>loc_3</td>\n",
       "      <td>4300.0</td>\n",
       "      <td>1.0</td>\n",
       "      <td>A</td>\n",
       "    </tr>\n",
       "  </tbody>\n",
       "</table>\n",
       "<p>435 rows × 8 columns</p>\n",
       "</div>"
      ],
      "text/plain": [
       "      ID  bill_depth  bill_length  wing_length location    mass  sex species\n",
       "0    284   14.300000    48.200000   210.000000    loc_2  4600.0  0.0       C\n",
       "1    101   14.400000    48.400000   203.000000    loc_2  4625.0  0.0       C\n",
       "2    400   18.400000          NaN   200.000000    loc_3  3400.0  0.0       B\n",
       "3     98   14.982114    47.504878          NaN      NaN  4800.0  0.0       C\n",
       "4    103   18.982114    38.259307   217.186992    loc_3  5200.0  0.0       C\n",
       "..   ...         ...          ...          ...      ...     ...  ...     ...\n",
       "430   45   17.000000    48.833824   196.000000      NaN  3500.0  1.0       B\n",
       "431  398   17.100000          NaN   193.000000    loc_3  3400.0  0.0       A\n",
       "432  156   19.400000          NaN          NaN    loc_1  3900.0  1.0       A\n",
       "433   47   16.600000    55.512336   187.000000    loc_2  2900.0  NaN       B\n",
       "434   92   18.900000          NaN          NaN    loc_3  4300.0  1.0       A\n",
       "\n",
       "[435 rows x 8 columns]"
      ]
     },
     "execution_count": 325,
     "metadata": {},
     "output_type": "execute_result"
    }
   ],
   "source": [
    "df=data.merge(target)\n",
    "df=df[[\"ID\",\"bill_depth\",\"bill_length\",\"wing_length\",\"location\",\"mass\",\"sex\",\"species\"]]\n",
    "df"
   ]
  },
  {
   "cell_type": "code",
   "execution_count": 326,
   "id": "e0a70240",
   "metadata": {},
   "outputs": [
    {
     "data": {
      "text/html": [
       "<div>\n",
       "<style scoped>\n",
       "    .dataframe tbody tr th:only-of-type {\n",
       "        vertical-align: middle;\n",
       "    }\n",
       "\n",
       "    .dataframe tbody tr th {\n",
       "        vertical-align: top;\n",
       "    }\n",
       "\n",
       "    .dataframe thead th {\n",
       "        text-align: right;\n",
       "    }\n",
       "</style>\n",
       "<table border=\"1\" class=\"dataframe\">\n",
       "  <thead>\n",
       "    <tr style=\"text-align: right;\">\n",
       "      <th></th>\n",
       "      <th>ID</th>\n",
       "      <th>bill_depth</th>\n",
       "      <th>bill_length</th>\n",
       "      <th>wing_length</th>\n",
       "      <th>location</th>\n",
       "      <th>mass</th>\n",
       "      <th>sex</th>\n",
       "      <th>species</th>\n",
       "    </tr>\n",
       "  </thead>\n",
       "  <tbody>\n",
       "    <tr>\n",
       "      <th>0</th>\n",
       "      <td>2</td>\n",
       "      <td>14.982114</td>\n",
       "      <td>38.259307</td>\n",
       "      <td>217.186992</td>\n",
       "      <td>loc_2</td>\n",
       "      <td>5400.0</td>\n",
       "      <td>0.0</td>\n",
       "      <td>A</td>\n",
       "    </tr>\n",
       "    <tr>\n",
       "      <th>1</th>\n",
       "      <td>5</td>\n",
       "      <td>13.200000</td>\n",
       "      <td>46.100000</td>\n",
       "      <td>211.000000</td>\n",
       "      <td>loc_2</td>\n",
       "      <td>4500.0</td>\n",
       "      <td>0.0</td>\n",
       "      <td>C</td>\n",
       "    </tr>\n",
       "    <tr>\n",
       "      <th>2</th>\n",
       "      <td>7</td>\n",
       "      <td>20.000000</td>\n",
       "      <td>NaN</td>\n",
       "      <td>197.000000</td>\n",
       "      <td>loc_3</td>\n",
       "      <td>3300.0</td>\n",
       "      <td>1.0</td>\n",
       "      <td>C</td>\n",
       "    </tr>\n",
       "    <tr>\n",
       "      <th>3</th>\n",
       "      <td>8</td>\n",
       "      <td>17.500000</td>\n",
       "      <td>38.791391</td>\n",
       "      <td>190.000000</td>\n",
       "      <td>loc_3</td>\n",
       "      <td>3900.0</td>\n",
       "      <td>NaN</td>\n",
       "      <td>B</td>\n",
       "    </tr>\n",
       "    <tr>\n",
       "      <th>4</th>\n",
       "      <td>9</td>\n",
       "      <td>18.900000</td>\n",
       "      <td>NaN</td>\n",
       "      <td>184.000000</td>\n",
       "      <td>loc_2</td>\n",
       "      <td>3550.0</td>\n",
       "      <td>1.0</td>\n",
       "      <td>C</td>\n",
       "    </tr>\n",
       "    <tr>\n",
       "      <th>...</th>\n",
       "      <td>...</td>\n",
       "      <td>...</td>\n",
       "      <td>...</td>\n",
       "      <td>...</td>\n",
       "      <td>...</td>\n",
       "      <td>...</td>\n",
       "      <td>...</td>\n",
       "      <td>...</td>\n",
       "    </tr>\n",
       "    <tr>\n",
       "      <th>104</th>\n",
       "      <td>507</td>\n",
       "      <td>19.000000</td>\n",
       "      <td>NaN</td>\n",
       "      <td>NaN</td>\n",
       "      <td>loc_1</td>\n",
       "      <td>3600.0</td>\n",
       "      <td>0.0</td>\n",
       "      <td>A</td>\n",
       "    </tr>\n",
       "    <tr>\n",
       "      <th>105</th>\n",
       "      <td>512</td>\n",
       "      <td>18.000000</td>\n",
       "      <td>NaN</td>\n",
       "      <td>210.000000</td>\n",
       "      <td>loc_1</td>\n",
       "      <td>4000.0</td>\n",
       "      <td>1.0</td>\n",
       "      <td>C</td>\n",
       "    </tr>\n",
       "    <tr>\n",
       "      <th>106</th>\n",
       "      <td>516</td>\n",
       "      <td>19.500000</td>\n",
       "      <td>49.000000</td>\n",
       "      <td>210.000000</td>\n",
       "      <td>loc_3</td>\n",
       "      <td>3950.0</td>\n",
       "      <td>1.0</td>\n",
       "      <td>A</td>\n",
       "    </tr>\n",
       "    <tr>\n",
       "      <th>107</th>\n",
       "      <td>533</td>\n",
       "      <td>17.900000</td>\n",
       "      <td>50.100000</td>\n",
       "      <td>190.000000</td>\n",
       "      <td>loc_3</td>\n",
       "      <td>3400.0</td>\n",
       "      <td>0.0</td>\n",
       "      <td>C</td>\n",
       "    </tr>\n",
       "    <tr>\n",
       "      <th>108</th>\n",
       "      <td>541</td>\n",
       "      <td>14.982114</td>\n",
       "      <td>38.259307</td>\n",
       "      <td>NaN</td>\n",
       "      <td>loc_3</td>\n",
       "      <td>5550.0</td>\n",
       "      <td>NaN</td>\n",
       "      <td>A</td>\n",
       "    </tr>\n",
       "  </tbody>\n",
       "</table>\n",
       "<p>109 rows × 8 columns</p>\n",
       "</div>"
      ],
      "text/plain": [
       "      ID  bill_depth  bill_length  wing_length location    mass  sex species\n",
       "0      2   14.982114    38.259307   217.186992    loc_2  5400.0  0.0       A\n",
       "1      5   13.200000    46.100000   211.000000    loc_2  4500.0  0.0       C\n",
       "2      7   20.000000          NaN   197.000000    loc_3  3300.0  1.0       C\n",
       "3      8   17.500000    38.791391   190.000000    loc_3  3900.0  NaN       B\n",
       "4      9   18.900000          NaN   184.000000    loc_2  3550.0  1.0       C\n",
       "..   ...         ...          ...          ...      ...     ...  ...     ...\n",
       "104  507   19.000000          NaN          NaN    loc_1  3600.0  0.0       A\n",
       "105  512   18.000000          NaN   210.000000    loc_1  4000.0  1.0       C\n",
       "106  516   19.500000    49.000000   210.000000    loc_3  3950.0  1.0       A\n",
       "107  533   17.900000    50.100000   190.000000    loc_3  3400.0  0.0       C\n",
       "108  541   14.982114    38.259307          NaN    loc_3  5550.0  NaN       A\n",
       "\n",
       "[109 rows x 8 columns]"
      ]
     },
     "execution_count": 326,
     "metadata": {},
     "output_type": "execute_result"
    }
   ],
   "source": [
    "test_df=test_data.merge(test_result)\n",
    "test_df=test_df[[\"ID\",\"bill_depth\",\"bill_length\",\"wing_length\",\"location\",\"mass\",\"sex\",\"species\"]]\n",
    "test_df"
   ]
  },
  {
   "cell_type": "markdown",
   "id": "8748331c",
   "metadata": {},
   "source": [
    "## ---------------------------------------------------------------------------------------------------------------------------"
   ]
  },
  {
   "cell_type": "code",
   "execution_count": 327,
   "id": "fec60bdd",
   "metadata": {},
   "outputs": [
    {
     "data": {
      "text/plain": [
       "bill_depth      1\n",
       "bill_length    41\n",
       "wing_length    38\n",
       "location        6\n",
       "mass            1\n",
       "sex            17\n",
       "ID              0\n",
       "dtype: int64"
      ]
     },
     "execution_count": 327,
     "metadata": {},
     "output_type": "execute_result"
    }
   ],
   "source": [
    "test_data.isnull().sum()"
   ]
  },
  {
   "cell_type": "code",
   "execution_count": 328,
   "id": "1d0fcfb9",
   "metadata": {},
   "outputs": [
    {
     "data": {
      "text/plain": [
       "ID               0\n",
       "bill_depth       1\n",
       "bill_length    140\n",
       "wing_length    137\n",
       "location        30\n",
       "mass             2\n",
       "sex             56\n",
       "species          0\n",
       "dtype: int64"
      ]
     },
     "execution_count": 328,
     "metadata": {},
     "output_type": "execute_result"
    }
   ],
   "source": [
    "df.isnull().sum()"
   ]
  },
  {
   "cell_type": "code",
   "execution_count": 329,
   "id": "46062668",
   "metadata": {},
   "outputs": [],
   "source": [
    "def fillnan(df,col):\n",
    "    df[col].fillna(df[col].mean(),inplace=True)"
   ]
  },
  {
   "cell_type": "code",
   "execution_count": 330,
   "id": "52f5ce3f",
   "metadata": {},
   "outputs": [],
   "source": [
    "fillnan(df,\"bill_depth\")\n",
    "fillnan(df,\"mass\")"
   ]
  },
  {
   "cell_type": "code",
   "execution_count": 331,
   "id": "6d6a82e1",
   "metadata": {},
   "outputs": [],
   "source": [
    "fillnan(test_df,\"bill_depth\")\n",
    "fillnan(test_df,\"mass\")"
   ]
  },
  {
   "cell_type": "code",
   "execution_count": 332,
   "id": "4a9e3f42",
   "metadata": {},
   "outputs": [],
   "source": [
    "def fillnan2(df,col):\n",
    "    df[col].fillna(df[col].mode()[0],inplace=True)"
   ]
  },
  {
   "cell_type": "code",
   "execution_count": 333,
   "id": "95e0c7c2",
   "metadata": {},
   "outputs": [],
   "source": [
    "fillnan2(df,\"location\")\n",
    "fillnan2(df,\"sex\")"
   ]
  },
  {
   "cell_type": "code",
   "execution_count": 334,
   "id": "6fd2af68",
   "metadata": {},
   "outputs": [],
   "source": [
    "fillnan2(test_df,\"location\")\n",
    "fillnan2(test_df,\"sex\")"
   ]
  },
  {
   "cell_type": "code",
   "execution_count": 335,
   "id": "76a6efb1",
   "metadata": {},
   "outputs": [],
   "source": [
    "# Imputing of bill_length and wing_length which have null values by random quantile 30 to 70.\n",
    "def fillnan3(df,col):\n",
    "    np.random.seed(35)\n",
    "    list1=np.random.randint(30,70,size=len(df))\n",
    "    j=0\n",
    "    for i in list(df[df[col].isnull()==True].index):\n",
    "        df[col][i]=df[col].quantile(list1[j]/100)\n",
    "        j+=1"
   ]
  },
  {
   "cell_type": "code",
   "execution_count": 336,
   "id": "503e3d5b",
   "metadata": {},
   "outputs": [],
   "source": [
    "fillnan3(df,\"bill_length\")\n",
    "fillnan3(df,\"wing_length\")"
   ]
  },
  {
   "cell_type": "code",
   "execution_count": 337,
   "id": "bf19d39a",
   "metadata": {},
   "outputs": [],
   "source": [
    "fillnan3(test_df,\"bill_length\")\n",
    "fillnan3(test_df,\"wing_length\")"
   ]
  },
  {
   "cell_type": "code",
   "execution_count": 338,
   "id": "e873a534",
   "metadata": {},
   "outputs": [
    {
     "data": {
      "text/plain": [
       "ID             0\n",
       "bill_depth     0\n",
       "bill_length    0\n",
       "wing_length    0\n",
       "location       0\n",
       "mass           0\n",
       "sex            0\n",
       "species        0\n",
       "dtype: int64"
      ]
     },
     "execution_count": 338,
     "metadata": {},
     "output_type": "execute_result"
    }
   ],
   "source": [
    "df.isnull().sum()"
   ]
  },
  {
   "cell_type": "code",
   "execution_count": 339,
   "id": "a0265a73",
   "metadata": {},
   "outputs": [
    {
     "data": {
      "text/plain": [
       "ID             0\n",
       "bill_depth     0\n",
       "bill_length    0\n",
       "wing_length    0\n",
       "location       0\n",
       "mass           0\n",
       "sex            0\n",
       "species        0\n",
       "dtype: int64"
      ]
     },
     "execution_count": 339,
     "metadata": {},
     "output_type": "execute_result"
    }
   ],
   "source": [
    "test_df.isnull().sum()"
   ]
  },
  {
   "cell_type": "code",
   "execution_count": 340,
   "id": "531de4bb",
   "metadata": {},
   "outputs": [
    {
     "data": {
      "text/html": [
       "<div>\n",
       "<style scoped>\n",
       "    .dataframe tbody tr th:only-of-type {\n",
       "        vertical-align: middle;\n",
       "    }\n",
       "\n",
       "    .dataframe tbody tr th {\n",
       "        vertical-align: top;\n",
       "    }\n",
       "\n",
       "    .dataframe thead th {\n",
       "        text-align: right;\n",
       "    }\n",
       "</style>\n",
       "<table border=\"1\" class=\"dataframe\">\n",
       "  <thead>\n",
       "    <tr style=\"text-align: right;\">\n",
       "      <th></th>\n",
       "      <th>ID</th>\n",
       "      <th>bill_depth</th>\n",
       "      <th>bill_length</th>\n",
       "      <th>wing_length</th>\n",
       "      <th>location</th>\n",
       "      <th>mass</th>\n",
       "      <th>sex</th>\n",
       "      <th>species</th>\n",
       "    </tr>\n",
       "  </thead>\n",
       "  <tbody>\n",
       "    <tr>\n",
       "      <th>0</th>\n",
       "      <td>284</td>\n",
       "      <td>14.300000</td>\n",
       "      <td>48.200000</td>\n",
       "      <td>210.000000</td>\n",
       "      <td>loc_2</td>\n",
       "      <td>4600.0</td>\n",
       "      <td>0.0</td>\n",
       "      <td>C</td>\n",
       "    </tr>\n",
       "    <tr>\n",
       "      <th>1</th>\n",
       "      <td>101</td>\n",
       "      <td>14.400000</td>\n",
       "      <td>48.400000</td>\n",
       "      <td>203.000000</td>\n",
       "      <td>loc_2</td>\n",
       "      <td>4625.0</td>\n",
       "      <td>0.0</td>\n",
       "      <td>C</td>\n",
       "    </tr>\n",
       "    <tr>\n",
       "      <th>2</th>\n",
       "      <td>400</td>\n",
       "      <td>18.400000</td>\n",
       "      <td>45.500000</td>\n",
       "      <td>200.000000</td>\n",
       "      <td>loc_3</td>\n",
       "      <td>3400.0</td>\n",
       "      <td>0.0</td>\n",
       "      <td>B</td>\n",
       "    </tr>\n",
       "    <tr>\n",
       "      <th>3</th>\n",
       "      <td>98</td>\n",
       "      <td>14.982114</td>\n",
       "      <td>47.504878</td>\n",
       "      <td>196.000000</td>\n",
       "      <td>loc_2</td>\n",
       "      <td>4800.0</td>\n",
       "      <td>0.0</td>\n",
       "      <td>C</td>\n",
       "    </tr>\n",
       "    <tr>\n",
       "      <th>4</th>\n",
       "      <td>103</td>\n",
       "      <td>18.982114</td>\n",
       "      <td>38.259307</td>\n",
       "      <td>217.186992</td>\n",
       "      <td>loc_3</td>\n",
       "      <td>5200.0</td>\n",
       "      <td>0.0</td>\n",
       "      <td>C</td>\n",
       "    </tr>\n",
       "    <tr>\n",
       "      <th>...</th>\n",
       "      <td>...</td>\n",
       "      <td>...</td>\n",
       "      <td>...</td>\n",
       "      <td>...</td>\n",
       "      <td>...</td>\n",
       "      <td>...</td>\n",
       "      <td>...</td>\n",
       "      <td>...</td>\n",
       "    </tr>\n",
       "    <tr>\n",
       "      <th>430</th>\n",
       "      <td>45</td>\n",
       "      <td>17.000000</td>\n",
       "      <td>48.833824</td>\n",
       "      <td>196.000000</td>\n",
       "      <td>loc_2</td>\n",
       "      <td>3500.0</td>\n",
       "      <td>1.0</td>\n",
       "      <td>B</td>\n",
       "    </tr>\n",
       "    <tr>\n",
       "      <th>431</th>\n",
       "      <td>398</td>\n",
       "      <td>17.100000</td>\n",
       "      <td>47.504878</td>\n",
       "      <td>193.000000</td>\n",
       "      <td>loc_3</td>\n",
       "      <td>3400.0</td>\n",
       "      <td>0.0</td>\n",
       "      <td>A</td>\n",
       "    </tr>\n",
       "    <tr>\n",
       "      <th>432</th>\n",
       "      <td>156</td>\n",
       "      <td>19.400000</td>\n",
       "      <td>47.504878</td>\n",
       "      <td>198.000000</td>\n",
       "      <td>loc_1</td>\n",
       "      <td>3900.0</td>\n",
       "      <td>1.0</td>\n",
       "      <td>A</td>\n",
       "    </tr>\n",
       "    <tr>\n",
       "      <th>433</th>\n",
       "      <td>47</td>\n",
       "      <td>16.600000</td>\n",
       "      <td>55.512336</td>\n",
       "      <td>187.000000</td>\n",
       "      <td>loc_2</td>\n",
       "      <td>2900.0</td>\n",
       "      <td>1.0</td>\n",
       "      <td>B</td>\n",
       "    </tr>\n",
       "    <tr>\n",
       "      <th>434</th>\n",
       "      <td>92</td>\n",
       "      <td>18.900000</td>\n",
       "      <td>47.504878</td>\n",
       "      <td>207.000000</td>\n",
       "      <td>loc_3</td>\n",
       "      <td>4300.0</td>\n",
       "      <td>1.0</td>\n",
       "      <td>A</td>\n",
       "    </tr>\n",
       "  </tbody>\n",
       "</table>\n",
       "<p>435 rows × 8 columns</p>\n",
       "</div>"
      ],
      "text/plain": [
       "      ID  bill_depth  bill_length  wing_length location    mass  sex species\n",
       "0    284   14.300000    48.200000   210.000000    loc_2  4600.0  0.0       C\n",
       "1    101   14.400000    48.400000   203.000000    loc_2  4625.0  0.0       C\n",
       "2    400   18.400000    45.500000   200.000000    loc_3  3400.0  0.0       B\n",
       "3     98   14.982114    47.504878   196.000000    loc_2  4800.0  0.0       C\n",
       "4    103   18.982114    38.259307   217.186992    loc_3  5200.0  0.0       C\n",
       "..   ...         ...          ...          ...      ...     ...  ...     ...\n",
       "430   45   17.000000    48.833824   196.000000    loc_2  3500.0  1.0       B\n",
       "431  398   17.100000    47.504878   193.000000    loc_3  3400.0  0.0       A\n",
       "432  156   19.400000    47.504878   198.000000    loc_1  3900.0  1.0       A\n",
       "433   47   16.600000    55.512336   187.000000    loc_2  2900.0  1.0       B\n",
       "434   92   18.900000    47.504878   207.000000    loc_3  4300.0  1.0       A\n",
       "\n",
       "[435 rows x 8 columns]"
      ]
     },
     "execution_count": 340,
     "metadata": {},
     "output_type": "execute_result"
    }
   ],
   "source": [
    "df"
   ]
  },
  {
   "cell_type": "code",
   "execution_count": 341,
   "id": "5446f270",
   "metadata": {},
   "outputs": [],
   "source": [
    "test_df.reset_index(drop=True,inplace=True)"
   ]
  },
  {
   "cell_type": "code",
   "execution_count": 342,
   "id": "a21b6ada",
   "metadata": {},
   "outputs": [
    {
     "data": {
      "image/png": "[encoded data removed]",
      "text/plain": [
       "<Figure size 640x480 with 1 Axes>"
      ]
     },
     "metadata": {},
     "output_type": "display_data"
    }
   ],
   "source": [
    "sns.barplot(df[\"species\"].value_counts().index,df[\"species\"].value_counts().values)\n",
    "plt.show()"
   ]
  },
  {
   "cell_type": "code",
   "execution_count": 343,
   "id": "76964baf",
   "metadata": {},
   "outputs": [],
   "source": [
    "LE = LabelEncoder()\n",
    "LE.fit(df[\"location\"])\n",
    "df[\"location\"] = LE.transform(df[\"location\"])\n",
    "test_df[\"location\"] = LE.transform(test_df[\"location\"])"
   ]
  },
  {
   "cell_type": "code",
   "execution_count": 344,
   "id": "275018f2",
   "metadata": {},
   "outputs": [
    {
     "data": {
      "text/html": [
       "<div>\n",
       "<style scoped>\n",
       "    .dataframe tbody tr th:only-of-type {\n",
       "        vertical-align: middle;\n",
       "    }\n",
       "\n",
       "    .dataframe tbody tr th {\n",
       "        vertical-align: top;\n",
       "    }\n",
       "\n",
       "    .dataframe thead th {\n",
       "        text-align: right;\n",
       "    }\n",
       "</style>\n",
       "<table border=\"1\" class=\"dataframe\">\n",
       "  <thead>\n",
       "    <tr style=\"text-align: right;\">\n",
       "      <th></th>\n",
       "      <th>ID</th>\n",
       "      <th>bill_depth</th>\n",
       "      <th>bill_length</th>\n",
       "      <th>wing_length</th>\n",
       "      <th>location</th>\n",
       "      <th>mass</th>\n",
       "      <th>sex</th>\n",
       "      <th>species</th>\n",
       "    </tr>\n",
       "  </thead>\n",
       "  <tbody>\n",
       "    <tr>\n",
       "      <th>0</th>\n",
       "      <td>284</td>\n",
       "      <td>14.300000</td>\n",
       "      <td>48.200000</td>\n",
       "      <td>210.000000</td>\n",
       "      <td>1</td>\n",
       "      <td>4600.0</td>\n",
       "      <td>0.0</td>\n",
       "      <td>C</td>\n",
       "    </tr>\n",
       "    <tr>\n",
       "      <th>1</th>\n",
       "      <td>101</td>\n",
       "      <td>14.400000</td>\n",
       "      <td>48.400000</td>\n",
       "      <td>203.000000</td>\n",
       "      <td>1</td>\n",
       "      <td>4625.0</td>\n",
       "      <td>0.0</td>\n",
       "      <td>C</td>\n",
       "    </tr>\n",
       "    <tr>\n",
       "      <th>2</th>\n",
       "      <td>400</td>\n",
       "      <td>18.400000</td>\n",
       "      <td>45.500000</td>\n",
       "      <td>200.000000</td>\n",
       "      <td>2</td>\n",
       "      <td>3400.0</td>\n",
       "      <td>0.0</td>\n",
       "      <td>B</td>\n",
       "    </tr>\n",
       "    <tr>\n",
       "      <th>3</th>\n",
       "      <td>98</td>\n",
       "      <td>14.982114</td>\n",
       "      <td>47.504878</td>\n",
       "      <td>196.000000</td>\n",
       "      <td>1</td>\n",
       "      <td>4800.0</td>\n",
       "      <td>0.0</td>\n",
       "      <td>C</td>\n",
       "    </tr>\n",
       "    <tr>\n",
       "      <th>4</th>\n",
       "      <td>103</td>\n",
       "      <td>18.982114</td>\n",
       "      <td>38.259307</td>\n",
       "      <td>217.186992</td>\n",
       "      <td>2</td>\n",
       "      <td>5200.0</td>\n",
       "      <td>0.0</td>\n",
       "      <td>C</td>\n",
       "    </tr>\n",
       "    <tr>\n",
       "      <th>...</th>\n",
       "      <td>...</td>\n",
       "      <td>...</td>\n",
       "      <td>...</td>\n",
       "      <td>...</td>\n",
       "      <td>...</td>\n",
       "      <td>...</td>\n",
       "      <td>...</td>\n",
       "      <td>...</td>\n",
       "    </tr>\n",
       "    <tr>\n",
       "      <th>430</th>\n",
       "      <td>45</td>\n",
       "      <td>17.000000</td>\n",
       "      <td>48.833824</td>\n",
       "      <td>196.000000</td>\n",
       "      <td>1</td>\n",
       "      <td>3500.0</td>\n",
       "      <td>1.0</td>\n",
       "      <td>B</td>\n",
       "    </tr>\n",
       "    <tr>\n",
       "      <th>431</th>\n",
       "      <td>398</td>\n",
       "      <td>17.100000</td>\n",
       "      <td>47.504878</td>\n",
       "      <td>193.000000</td>\n",
       "      <td>2</td>\n",
       "      <td>3400.0</td>\n",
       "      <td>0.0</td>\n",
       "      <td>A</td>\n",
       "    </tr>\n",
       "    <tr>\n",
       "      <th>432</th>\n",
       "      <td>156</td>\n",
       "      <td>19.400000</td>\n",
       "      <td>47.504878</td>\n",
       "      <td>198.000000</td>\n",
       "      <td>0</td>\n",
       "      <td>3900.0</td>\n",
       "      <td>1.0</td>\n",
       "      <td>A</td>\n",
       "    </tr>\n",
       "    <tr>\n",
       "      <th>433</th>\n",
       "      <td>47</td>\n",
       "      <td>16.600000</td>\n",
       "      <td>55.512336</td>\n",
       "      <td>187.000000</td>\n",
       "      <td>1</td>\n",
       "      <td>2900.0</td>\n",
       "      <td>1.0</td>\n",
       "      <td>B</td>\n",
       "    </tr>\n",
       "    <tr>\n",
       "      <th>434</th>\n",
       "      <td>92</td>\n",
       "      <td>18.900000</td>\n",
       "      <td>47.504878</td>\n",
       "      <td>207.000000</td>\n",
       "      <td>2</td>\n",
       "      <td>4300.0</td>\n",
       "      <td>1.0</td>\n",
       "      <td>A</td>\n",
       "    </tr>\n",
       "  </tbody>\n",
       "</table>\n",
       "<p>435 rows × 8 columns</p>\n",
       "</div>"
      ],
      "text/plain": [
       "      ID  bill_depth  bill_length  wing_length  location    mass  sex species\n",
       "0    284   14.300000    48.200000   210.000000         1  4600.0  0.0       C\n",
       "1    101   14.400000    48.400000   203.000000         1  4625.0  0.0       C\n",
       "2    400   18.400000    45.500000   200.000000         2  3400.0  0.0       B\n",
       "3     98   14.982114    47.504878   196.000000         1  4800.0  0.0       C\n",
       "4    103   18.982114    38.259307   217.186992         2  5200.0  0.0       C\n",
       "..   ...         ...          ...          ...       ...     ...  ...     ...\n",
       "430   45   17.000000    48.833824   196.000000         1  3500.0  1.0       B\n",
       "431  398   17.100000    47.504878   193.000000         2  3400.0  0.0       A\n",
       "432  156   19.400000    47.504878   198.000000         0  3900.0  1.0       A\n",
       "433   47   16.600000    55.512336   187.000000         1  2900.0  1.0       B\n",
       "434   92   18.900000    47.504878   207.000000         2  4300.0  1.0       A\n",
       "\n",
       "[435 rows x 8 columns]"
      ]
     },
     "execution_count": 344,
     "metadata": {},
     "output_type": "execute_result"
    }
   ],
   "source": [
    "df"
   ]
  },
  {
   "cell_type": "code",
   "execution_count": 345,
   "id": "e709650d",
   "metadata": {
    "scrolled": true
   },
   "outputs": [
    {
     "data": {
      "text/html": [
       "<div>\n",
       "<style scoped>\n",
       "    .dataframe tbody tr th:only-of-type {\n",
       "        vertical-align: middle;\n",
       "    }\n",
       "\n",
       "    .dataframe tbody tr th {\n",
       "        vertical-align: top;\n",
       "    }\n",
       "\n",
       "    .dataframe thead th {\n",
       "        text-align: right;\n",
       "    }\n",
       "</style>\n",
       "<table border=\"1\" class=\"dataframe\">\n",
       "  <thead>\n",
       "    <tr style=\"text-align: right;\">\n",
       "      <th></th>\n",
       "      <th>ID</th>\n",
       "      <th>bill_depth</th>\n",
       "      <th>bill_length</th>\n",
       "      <th>wing_length</th>\n",
       "      <th>location</th>\n",
       "      <th>mass</th>\n",
       "      <th>sex</th>\n",
       "      <th>species</th>\n",
       "    </tr>\n",
       "  </thead>\n",
       "  <tbody>\n",
       "    <tr>\n",
       "      <th>0</th>\n",
       "      <td>2</td>\n",
       "      <td>14.982114</td>\n",
       "      <td>38.259307</td>\n",
       "      <td>217.186992</td>\n",
       "      <td>1</td>\n",
       "      <td>5400.0</td>\n",
       "      <td>0.0</td>\n",
       "      <td>A</td>\n",
       "    </tr>\n",
       "    <tr>\n",
       "      <th>1</th>\n",
       "      <td>5</td>\n",
       "      <td>13.200000</td>\n",
       "      <td>46.100000</td>\n",
       "      <td>211.000000</td>\n",
       "      <td>1</td>\n",
       "      <td>4500.0</td>\n",
       "      <td>0.0</td>\n",
       "      <td>C</td>\n",
       "    </tr>\n",
       "    <tr>\n",
       "      <th>2</th>\n",
       "      <td>7</td>\n",
       "      <td>20.000000</td>\n",
       "      <td>45.326000</td>\n",
       "      <td>197.000000</td>\n",
       "      <td>2</td>\n",
       "      <td>3300.0</td>\n",
       "      <td>1.0</td>\n",
       "      <td>C</td>\n",
       "    </tr>\n",
       "    <tr>\n",
       "      <th>3</th>\n",
       "      <td>8</td>\n",
       "      <td>17.500000</td>\n",
       "      <td>38.791391</td>\n",
       "      <td>190.000000</td>\n",
       "      <td>2</td>\n",
       "      <td>3900.0</td>\n",
       "      <td>0.0</td>\n",
       "      <td>B</td>\n",
       "    </tr>\n",
       "    <tr>\n",
       "      <th>4</th>\n",
       "      <td>9</td>\n",
       "      <td>18.900000</td>\n",
       "      <td>46.160000</td>\n",
       "      <td>184.000000</td>\n",
       "      <td>1</td>\n",
       "      <td>3550.0</td>\n",
       "      <td>1.0</td>\n",
       "      <td>C</td>\n",
       "    </tr>\n",
       "    <tr>\n",
       "      <th>...</th>\n",
       "      <td>...</td>\n",
       "      <td>...</td>\n",
       "      <td>...</td>\n",
       "      <td>...</td>\n",
       "      <td>...</td>\n",
       "      <td>...</td>\n",
       "      <td>...</td>\n",
       "      <td>...</td>\n",
       "    </tr>\n",
       "    <tr>\n",
       "      <th>104</th>\n",
       "      <td>507</td>\n",
       "      <td>19.000000</td>\n",
       "      <td>45.908000</td>\n",
       "      <td>195.330176</td>\n",
       "      <td>0</td>\n",
       "      <td>3600.0</td>\n",
       "      <td>0.0</td>\n",
       "      <td>A</td>\n",
       "    </tr>\n",
       "    <tr>\n",
       "      <th>105</th>\n",
       "      <td>512</td>\n",
       "      <td>18.000000</td>\n",
       "      <td>46.200000</td>\n",
       "      <td>210.000000</td>\n",
       "      <td>0</td>\n",
       "      <td>4000.0</td>\n",
       "      <td>1.0</td>\n",
       "      <td>C</td>\n",
       "    </tr>\n",
       "    <tr>\n",
       "      <th>106</th>\n",
       "      <td>516</td>\n",
       "      <td>19.500000</td>\n",
       "      <td>49.000000</td>\n",
       "      <td>210.000000</td>\n",
       "      <td>2</td>\n",
       "      <td>3950.0</td>\n",
       "      <td>1.0</td>\n",
       "      <td>A</td>\n",
       "    </tr>\n",
       "    <tr>\n",
       "      <th>107</th>\n",
       "      <td>533</td>\n",
       "      <td>17.900000</td>\n",
       "      <td>50.100000</td>\n",
       "      <td>190.000000</td>\n",
       "      <td>2</td>\n",
       "      <td>3400.0</td>\n",
       "      <td>0.0</td>\n",
       "      <td>C</td>\n",
       "    </tr>\n",
       "    <tr>\n",
       "      <th>108</th>\n",
       "      <td>541</td>\n",
       "      <td>14.982114</td>\n",
       "      <td>38.259307</td>\n",
       "      <td>195.501964</td>\n",
       "      <td>2</td>\n",
       "      <td>5550.0</td>\n",
       "      <td>0.0</td>\n",
       "      <td>A</td>\n",
       "    </tr>\n",
       "  </tbody>\n",
       "</table>\n",
       "<p>109 rows × 8 columns</p>\n",
       "</div>"
      ],
      "text/plain": [
       "      ID  bill_depth  bill_length  wing_length  location    mass  sex species\n",
       "0      2   14.982114    38.259307   217.186992         1  5400.0  0.0       A\n",
       "1      5   13.200000    46.100000   211.000000         1  4500.0  0.0       C\n",
       "2      7   20.000000    45.326000   197.000000         2  3300.0  1.0       C\n",
       "3      8   17.500000    38.791391   190.000000         2  3900.0  0.0       B\n",
       "4      9   18.900000    46.160000   184.000000         1  3550.0  1.0       C\n",
       "..   ...         ...          ...          ...       ...     ...  ...     ...\n",
       "104  507   19.000000    45.908000   195.330176         0  3600.0  0.0       A\n",
       "105  512   18.000000    46.200000   210.000000         0  4000.0  1.0       C\n",
       "106  516   19.500000    49.000000   210.000000         2  3950.0  1.0       A\n",
       "107  533   17.900000    50.100000   190.000000         2  3400.0  0.0       C\n",
       "108  541   14.982114    38.259307   195.501964         2  5550.0  0.0       A\n",
       "\n",
       "[109 rows x 8 columns]"
      ]
     },
     "execution_count": 345,
     "metadata": {},
     "output_type": "execute_result"
    }
   ],
   "source": [
    "test_df"
   ]
  },
  {
   "cell_type": "markdown",
   "id": "c0068413",
   "metadata": {},
   "source": [
    "## Balancing data"
   ]
  },
  {
   "cell_type": "code",
   "execution_count": 346,
   "id": "2ff28993",
   "metadata": {},
   "outputs": [],
   "source": [
    "A=df.drop([\"species\"],axis=1)\n",
    "B=df[\"species\"]"
   ]
  },
  {
   "cell_type": "code",
   "execution_count": 347,
   "id": "d433a221",
   "metadata": {},
   "outputs": [],
   "source": [
    "# Balancing data by oversampling.\n",
    "sm=SMOTE(random_state=42)\n",
    "A_bal,B_bal=sm.fit_resample(A,B)"
   ]
  },
  {
   "cell_type": "code",
   "execution_count": 348,
   "id": "7164a42b",
   "metadata": {},
   "outputs": [],
   "source": [
    "balanced_data=A_bal.copy()\n",
    "balanced_data[\"species\"]=B_bal"
   ]
  },
  {
   "cell_type": "code",
   "execution_count": 349,
   "id": "a06e7656",
   "metadata": {},
   "outputs": [
    {
     "data": {
      "text/html": [
       "<div>\n",
       "<style scoped>\n",
       "    .dataframe tbody tr th:only-of-type {\n",
       "        vertical-align: middle;\n",
       "    }\n",
       "\n",
       "    .dataframe tbody tr th {\n",
       "        vertical-align: top;\n",
       "    }\n",
       "\n",
       "    .dataframe thead th {\n",
       "        text-align: right;\n",
       "    }\n",
       "</style>\n",
       "<table border=\"1\" class=\"dataframe\">\n",
       "  <thead>\n",
       "    <tr style=\"text-align: right;\">\n",
       "      <th></th>\n",
       "      <th>ID</th>\n",
       "      <th>bill_depth</th>\n",
       "      <th>bill_length</th>\n",
       "      <th>wing_length</th>\n",
       "      <th>location</th>\n",
       "      <th>mass</th>\n",
       "      <th>sex</th>\n",
       "      <th>species</th>\n",
       "    </tr>\n",
       "  </thead>\n",
       "  <tbody>\n",
       "    <tr>\n",
       "      <th>0</th>\n",
       "      <td>284</td>\n",
       "      <td>14.300000</td>\n",
       "      <td>48.200000</td>\n",
       "      <td>210.000000</td>\n",
       "      <td>1</td>\n",
       "      <td>4600.000000</td>\n",
       "      <td>0.000000</td>\n",
       "      <td>C</td>\n",
       "    </tr>\n",
       "    <tr>\n",
       "      <th>1</th>\n",
       "      <td>101</td>\n",
       "      <td>14.400000</td>\n",
       "      <td>48.400000</td>\n",
       "      <td>203.000000</td>\n",
       "      <td>1</td>\n",
       "      <td>4625.000000</td>\n",
       "      <td>0.000000</td>\n",
       "      <td>C</td>\n",
       "    </tr>\n",
       "    <tr>\n",
       "      <th>2</th>\n",
       "      <td>400</td>\n",
       "      <td>18.400000</td>\n",
       "      <td>45.500000</td>\n",
       "      <td>200.000000</td>\n",
       "      <td>2</td>\n",
       "      <td>3400.000000</td>\n",
       "      <td>0.000000</td>\n",
       "      <td>B</td>\n",
       "    </tr>\n",
       "    <tr>\n",
       "      <th>3</th>\n",
       "      <td>98</td>\n",
       "      <td>14.982114</td>\n",
       "      <td>47.504878</td>\n",
       "      <td>196.000000</td>\n",
       "      <td>1</td>\n",
       "      <td>4800.000000</td>\n",
       "      <td>0.000000</td>\n",
       "      <td>C</td>\n",
       "    </tr>\n",
       "    <tr>\n",
       "      <th>4</th>\n",
       "      <td>103</td>\n",
       "      <td>18.982114</td>\n",
       "      <td>38.259307</td>\n",
       "      <td>217.186992</td>\n",
       "      <td>2</td>\n",
       "      <td>5200.000000</td>\n",
       "      <td>0.000000</td>\n",
       "      <td>C</td>\n",
       "    </tr>\n",
       "    <tr>\n",
       "      <th>...</th>\n",
       "      <td>...</td>\n",
       "      <td>...</td>\n",
       "      <td>...</td>\n",
       "      <td>...</td>\n",
       "      <td>...</td>\n",
       "      <td>...</td>\n",
       "      <td>...</td>\n",
       "      <td>...</td>\n",
       "    </tr>\n",
       "    <tr>\n",
       "      <th>541</th>\n",
       "      <td>482</td>\n",
       "      <td>16.686095</td>\n",
       "      <td>47.325861</td>\n",
       "      <td>199.504873</td>\n",
       "      <td>2</td>\n",
       "      <td>3337.621828</td>\n",
       "      <td>0.000000</td>\n",
       "      <td>B</td>\n",
       "    </tr>\n",
       "    <tr>\n",
       "      <th>542</th>\n",
       "      <td>119</td>\n",
       "      <td>17.768741</td>\n",
       "      <td>45.806673</td>\n",
       "      <td>193.249886</td>\n",
       "      <td>2</td>\n",
       "      <td>3310.938211</td>\n",
       "      <td>0.218764</td>\n",
       "      <td>B</td>\n",
       "    </tr>\n",
       "    <tr>\n",
       "      <th>543</th>\n",
       "      <td>491</td>\n",
       "      <td>18.804584</td>\n",
       "      <td>46.944054</td>\n",
       "      <td>199.674306</td>\n",
       "      <td>2</td>\n",
       "      <td>4005.810200</td>\n",
       "      <td>0.558102</td>\n",
       "      <td>B</td>\n",
       "    </tr>\n",
       "    <tr>\n",
       "      <th>544</th>\n",
       "      <td>116</td>\n",
       "      <td>17.180767</td>\n",
       "      <td>55.512336</td>\n",
       "      <td>191.211509</td>\n",
       "      <td>1</td>\n",
       "      <td>3585.095904</td>\n",
       "      <td>0.000000</td>\n",
       "      <td>B</td>\n",
       "    </tr>\n",
       "    <tr>\n",
       "      <th>545</th>\n",
       "      <td>167</td>\n",
       "      <td>19.458403</td>\n",
       "      <td>49.267207</td>\n",
       "      <td>193.064892</td>\n",
       "      <td>1</td>\n",
       "      <td>3798.377694</td>\n",
       "      <td>1.000000</td>\n",
       "      <td>B</td>\n",
       "    </tr>\n",
       "  </tbody>\n",
       "</table>\n",
       "<p>546 rows × 8 columns</p>\n",
       "</div>"
      ],
      "text/plain": [
       "      ID  bill_depth  bill_length  wing_length  location         mass  \\\n",
       "0    284   14.300000    48.200000   210.000000         1  4600.000000   \n",
       "1    101   14.400000    48.400000   203.000000         1  4625.000000   \n",
       "2    400   18.400000    45.500000   200.000000         2  3400.000000   \n",
       "3     98   14.982114    47.504878   196.000000         1  4800.000000   \n",
       "4    103   18.982114    38.259307   217.186992         2  5200.000000   \n",
       "..   ...         ...          ...          ...       ...          ...   \n",
       "541  482   16.686095    47.325861   199.504873         2  3337.621828   \n",
       "542  119   17.768741    45.806673   193.249886         2  3310.938211   \n",
       "543  491   18.804584    46.944054   199.674306         2  4005.810200   \n",
       "544  116   17.180767    55.512336   191.211509         1  3585.095904   \n",
       "545  167   19.458403    49.267207   193.064892         1  3798.377694   \n",
       "\n",
       "          sex species  \n",
       "0    0.000000       C  \n",
       "1    0.000000       C  \n",
       "2    0.000000       B  \n",
       "3    0.000000       C  \n",
       "4    0.000000       C  \n",
       "..        ...     ...  \n",
       "541  0.000000       B  \n",
       "542  0.218764       B  \n",
       "543  0.558102       B  \n",
       "544  0.000000       B  \n",
       "545  1.000000       B  \n",
       "\n",
       "[546 rows x 8 columns]"
      ]
     },
     "execution_count": 349,
     "metadata": {},
     "output_type": "execute_result"
    }
   ],
   "source": [
    "balanced_data"
   ]
  },
  {
   "cell_type": "code",
   "execution_count": 350,
   "id": "7fc610da",
   "metadata": {},
   "outputs": [
    {
     "data": {
      "image/png": "[encoded data removed]",
      "text/plain": [
       "<Figure size 640x480 with 1 Axes>"
      ]
     },
     "metadata": {},
     "output_type": "display_data"
    }
   ],
   "source": [
    "sns.barplot(balanced_data[\"species\"].value_counts().index,balanced_data[\"species\"].value_counts().values)\n",
    "plt.show()"
   ]
  },
  {
   "cell_type": "code",
   "execution_count": 351,
   "id": "115c0895",
   "metadata": {},
   "outputs": [
    {
     "data": {
      "image/png": "[encoded data removed]",
      "text/plain": [
       "<Figure size 800x300 with 2 Axes>"
      ]
     },
     "metadata": {},
     "output_type": "display_data"
    }
   ],
   "source": [
    "cm=balanced_data.corr()\n",
    "plt.figure(figsize=(8,3))\n",
    "sns.heatmap(cm,annot=True,cmap=\"Greens\")\n",
    "plt.show()"
   ]
  },
  {
   "cell_type": "code",
   "execution_count": 352,
   "id": "11e59b02",
   "metadata": {},
   "outputs": [
    {
     "data": {
      "text/html": [
       "<div>\n",
       "<style scoped>\n",
       "    .dataframe tbody tr th:only-of-type {\n",
       "        vertical-align: middle;\n",
       "    }\n",
       "\n",
       "    .dataframe tbody tr th {\n",
       "        vertical-align: top;\n",
       "    }\n",
       "\n",
       "    .dataframe thead th {\n",
       "        text-align: right;\n",
       "    }\n",
       "</style>\n",
       "<table border=\"1\" class=\"dataframe\">\n",
       "  <thead>\n",
       "    <tr style=\"text-align: right;\">\n",
       "      <th></th>\n",
       "      <th>ID</th>\n",
       "      <th>bill_depth</th>\n",
       "      <th>bill_length</th>\n",
       "      <th>wing_length</th>\n",
       "      <th>location</th>\n",
       "      <th>mass</th>\n",
       "      <th>sex</th>\n",
       "      <th>species</th>\n",
       "    </tr>\n",
       "  </thead>\n",
       "  <tbody>\n",
       "    <tr>\n",
       "      <th>0</th>\n",
       "      <td>284</td>\n",
       "      <td>14.300000</td>\n",
       "      <td>48.200000</td>\n",
       "      <td>210.000000</td>\n",
       "      <td>1</td>\n",
       "      <td>4600.000000</td>\n",
       "      <td>0.000000</td>\n",
       "      <td>C</td>\n",
       "    </tr>\n",
       "    <tr>\n",
       "      <th>1</th>\n",
       "      <td>101</td>\n",
       "      <td>14.400000</td>\n",
       "      <td>48.400000</td>\n",
       "      <td>203.000000</td>\n",
       "      <td>1</td>\n",
       "      <td>4625.000000</td>\n",
       "      <td>0.000000</td>\n",
       "      <td>C</td>\n",
       "    </tr>\n",
       "    <tr>\n",
       "      <th>2</th>\n",
       "      <td>400</td>\n",
       "      <td>18.400000</td>\n",
       "      <td>45.500000</td>\n",
       "      <td>200.000000</td>\n",
       "      <td>2</td>\n",
       "      <td>3400.000000</td>\n",
       "      <td>0.000000</td>\n",
       "      <td>B</td>\n",
       "    </tr>\n",
       "    <tr>\n",
       "      <th>3</th>\n",
       "      <td>98</td>\n",
       "      <td>14.982114</td>\n",
       "      <td>47.504878</td>\n",
       "      <td>196.000000</td>\n",
       "      <td>1</td>\n",
       "      <td>4800.000000</td>\n",
       "      <td>0.000000</td>\n",
       "      <td>C</td>\n",
       "    </tr>\n",
       "    <tr>\n",
       "      <th>4</th>\n",
       "      <td>103</td>\n",
       "      <td>18.982114</td>\n",
       "      <td>38.259307</td>\n",
       "      <td>217.186992</td>\n",
       "      <td>2</td>\n",
       "      <td>5200.000000</td>\n",
       "      <td>0.000000</td>\n",
       "      <td>C</td>\n",
       "    </tr>\n",
       "    <tr>\n",
       "      <th>...</th>\n",
       "      <td>...</td>\n",
       "      <td>...</td>\n",
       "      <td>...</td>\n",
       "      <td>...</td>\n",
       "      <td>...</td>\n",
       "      <td>...</td>\n",
       "      <td>...</td>\n",
       "      <td>...</td>\n",
       "    </tr>\n",
       "    <tr>\n",
       "      <th>541</th>\n",
       "      <td>482</td>\n",
       "      <td>16.686095</td>\n",
       "      <td>47.325861</td>\n",
       "      <td>199.504873</td>\n",
       "      <td>2</td>\n",
       "      <td>3337.621828</td>\n",
       "      <td>0.000000</td>\n",
       "      <td>B</td>\n",
       "    </tr>\n",
       "    <tr>\n",
       "      <th>542</th>\n",
       "      <td>119</td>\n",
       "      <td>17.768741</td>\n",
       "      <td>45.806673</td>\n",
       "      <td>193.249886</td>\n",
       "      <td>2</td>\n",
       "      <td>3310.938211</td>\n",
       "      <td>0.218764</td>\n",
       "      <td>B</td>\n",
       "    </tr>\n",
       "    <tr>\n",
       "      <th>543</th>\n",
       "      <td>491</td>\n",
       "      <td>18.804584</td>\n",
       "      <td>46.944054</td>\n",
       "      <td>199.674306</td>\n",
       "      <td>2</td>\n",
       "      <td>4005.810200</td>\n",
       "      <td>0.558102</td>\n",
       "      <td>B</td>\n",
       "    </tr>\n",
       "    <tr>\n",
       "      <th>544</th>\n",
       "      <td>116</td>\n",
       "      <td>17.180767</td>\n",
       "      <td>55.512336</td>\n",
       "      <td>191.211509</td>\n",
       "      <td>1</td>\n",
       "      <td>3585.095904</td>\n",
       "      <td>0.000000</td>\n",
       "      <td>B</td>\n",
       "    </tr>\n",
       "    <tr>\n",
       "      <th>545</th>\n",
       "      <td>167</td>\n",
       "      <td>19.458403</td>\n",
       "      <td>49.267207</td>\n",
       "      <td>193.064892</td>\n",
       "      <td>1</td>\n",
       "      <td>3798.377694</td>\n",
       "      <td>1.000000</td>\n",
       "      <td>B</td>\n",
       "    </tr>\n",
       "  </tbody>\n",
       "</table>\n",
       "<p>546 rows × 8 columns</p>\n",
       "</div>"
      ],
      "text/plain": [
       "      ID  bill_depth  bill_length  wing_length  location         mass  \\\n",
       "0    284   14.300000    48.200000   210.000000         1  4600.000000   \n",
       "1    101   14.400000    48.400000   203.000000         1  4625.000000   \n",
       "2    400   18.400000    45.500000   200.000000         2  3400.000000   \n",
       "3     98   14.982114    47.504878   196.000000         1  4800.000000   \n",
       "4    103   18.982114    38.259307   217.186992         2  5200.000000   \n",
       "..   ...         ...          ...          ...       ...          ...   \n",
       "541  482   16.686095    47.325861   199.504873         2  3337.621828   \n",
       "542  119   17.768741    45.806673   193.249886         2  3310.938211   \n",
       "543  491   18.804584    46.944054   199.674306         2  4005.810200   \n",
       "544  116   17.180767    55.512336   191.211509         1  3585.095904   \n",
       "545  167   19.458403    49.267207   193.064892         1  3798.377694   \n",
       "\n",
       "          sex species  \n",
       "0    0.000000       C  \n",
       "1    0.000000       C  \n",
       "2    0.000000       B  \n",
       "3    0.000000       C  \n",
       "4    0.000000       C  \n",
       "..        ...     ...  \n",
       "541  0.000000       B  \n",
       "542  0.218764       B  \n",
       "543  0.558102       B  \n",
       "544  0.000000       B  \n",
       "545  1.000000       B  \n",
       "\n",
       "[546 rows x 8 columns]"
      ]
     },
     "execution_count": 352,
     "metadata": {},
     "output_type": "execute_result"
    }
   ],
   "source": [
    "balanced_data"
   ]
  },
  {
   "cell_type": "code",
   "execution_count": 353,
   "id": "cb3fa388",
   "metadata": {
    "scrolled": true
   },
   "outputs": [
    {
     "data": {
      "text/html": [
       "<div>\n",
       "<style scoped>\n",
       "    .dataframe tbody tr th:only-of-type {\n",
       "        vertical-align: middle;\n",
       "    }\n",
       "\n",
       "    .dataframe tbody tr th {\n",
       "        vertical-align: top;\n",
       "    }\n",
       "\n",
       "    .dataframe thead th {\n",
       "        text-align: right;\n",
       "    }\n",
       "</style>\n",
       "<table border=\"1\" class=\"dataframe\">\n",
       "  <thead>\n",
       "    <tr style=\"text-align: right;\">\n",
       "      <th></th>\n",
       "      <th>ID</th>\n",
       "      <th>bill_depth</th>\n",
       "      <th>bill_length</th>\n",
       "      <th>wing_length</th>\n",
       "      <th>location</th>\n",
       "      <th>mass</th>\n",
       "      <th>sex</th>\n",
       "      <th>species</th>\n",
       "    </tr>\n",
       "  </thead>\n",
       "  <tbody>\n",
       "    <tr>\n",
       "      <th>0</th>\n",
       "      <td>284</td>\n",
       "      <td>14.300000</td>\n",
       "      <td>48.200000</td>\n",
       "      <td>210.000000</td>\n",
       "      <td>1</td>\n",
       "      <td>4600.0</td>\n",
       "      <td>0.0</td>\n",
       "      <td>C</td>\n",
       "    </tr>\n",
       "    <tr>\n",
       "      <th>1</th>\n",
       "      <td>101</td>\n",
       "      <td>14.400000</td>\n",
       "      <td>48.400000</td>\n",
       "      <td>203.000000</td>\n",
       "      <td>1</td>\n",
       "      <td>4625.0</td>\n",
       "      <td>0.0</td>\n",
       "      <td>C</td>\n",
       "    </tr>\n",
       "    <tr>\n",
       "      <th>2</th>\n",
       "      <td>400</td>\n",
       "      <td>18.400000</td>\n",
       "      <td>45.500000</td>\n",
       "      <td>200.000000</td>\n",
       "      <td>2</td>\n",
       "      <td>3400.0</td>\n",
       "      <td>0.0</td>\n",
       "      <td>B</td>\n",
       "    </tr>\n",
       "    <tr>\n",
       "      <th>3</th>\n",
       "      <td>98</td>\n",
       "      <td>14.982114</td>\n",
       "      <td>47.504878</td>\n",
       "      <td>196.000000</td>\n",
       "      <td>1</td>\n",
       "      <td>4800.0</td>\n",
       "      <td>0.0</td>\n",
       "      <td>C</td>\n",
       "    </tr>\n",
       "    <tr>\n",
       "      <th>4</th>\n",
       "      <td>103</td>\n",
       "      <td>18.982114</td>\n",
       "      <td>38.259307</td>\n",
       "      <td>217.186992</td>\n",
       "      <td>2</td>\n",
       "      <td>5200.0</td>\n",
       "      <td>0.0</td>\n",
       "      <td>C</td>\n",
       "    </tr>\n",
       "    <tr>\n",
       "      <th>...</th>\n",
       "      <td>...</td>\n",
       "      <td>...</td>\n",
       "      <td>...</td>\n",
       "      <td>...</td>\n",
       "      <td>...</td>\n",
       "      <td>...</td>\n",
       "      <td>...</td>\n",
       "      <td>...</td>\n",
       "    </tr>\n",
       "    <tr>\n",
       "      <th>650</th>\n",
       "      <td>507</td>\n",
       "      <td>19.000000</td>\n",
       "      <td>45.908000</td>\n",
       "      <td>195.330176</td>\n",
       "      <td>0</td>\n",
       "      <td>3600.0</td>\n",
       "      <td>0.0</td>\n",
       "      <td>A</td>\n",
       "    </tr>\n",
       "    <tr>\n",
       "      <th>651</th>\n",
       "      <td>512</td>\n",
       "      <td>18.000000</td>\n",
       "      <td>46.200000</td>\n",
       "      <td>210.000000</td>\n",
       "      <td>0</td>\n",
       "      <td>4000.0</td>\n",
       "      <td>1.0</td>\n",
       "      <td>C</td>\n",
       "    </tr>\n",
       "    <tr>\n",
       "      <th>652</th>\n",
       "      <td>516</td>\n",
       "      <td>19.500000</td>\n",
       "      <td>49.000000</td>\n",
       "      <td>210.000000</td>\n",
       "      <td>2</td>\n",
       "      <td>3950.0</td>\n",
       "      <td>1.0</td>\n",
       "      <td>A</td>\n",
       "    </tr>\n",
       "    <tr>\n",
       "      <th>653</th>\n",
       "      <td>533</td>\n",
       "      <td>17.900000</td>\n",
       "      <td>50.100000</td>\n",
       "      <td>190.000000</td>\n",
       "      <td>2</td>\n",
       "      <td>3400.0</td>\n",
       "      <td>0.0</td>\n",
       "      <td>C</td>\n",
       "    </tr>\n",
       "    <tr>\n",
       "      <th>654</th>\n",
       "      <td>541</td>\n",
       "      <td>14.982114</td>\n",
       "      <td>38.259307</td>\n",
       "      <td>195.501964</td>\n",
       "      <td>2</td>\n",
       "      <td>5550.0</td>\n",
       "      <td>0.0</td>\n",
       "      <td>A</td>\n",
       "    </tr>\n",
       "  </tbody>\n",
       "</table>\n",
       "<p>655 rows × 8 columns</p>\n",
       "</div>"
      ],
      "text/plain": [
       "      ID  bill_depth  bill_length  wing_length  location    mass  sex species\n",
       "0    284   14.300000    48.200000   210.000000         1  4600.0  0.0       C\n",
       "1    101   14.400000    48.400000   203.000000         1  4625.0  0.0       C\n",
       "2    400   18.400000    45.500000   200.000000         2  3400.0  0.0       B\n",
       "3     98   14.982114    47.504878   196.000000         1  4800.0  0.0       C\n",
       "4    103   18.982114    38.259307   217.186992         2  5200.0  0.0       C\n",
       "..   ...         ...          ...          ...       ...     ...  ...     ...\n",
       "650  507   19.000000    45.908000   195.330176         0  3600.0  0.0       A\n",
       "651  512   18.000000    46.200000   210.000000         0  4000.0  1.0       C\n",
       "652  516   19.500000    49.000000   210.000000         2  3950.0  1.0       A\n",
       "653  533   17.900000    50.100000   190.000000         2  3400.0  0.0       C\n",
       "654  541   14.982114    38.259307   195.501964         2  5550.0  0.0       A\n",
       "\n",
       "[655 rows x 8 columns]"
      ]
     },
     "execution_count": 353,
     "metadata": {},
     "output_type": "execute_result"
    }
   ],
   "source": [
    "final=pd.concat([balanced_data,test_df],axis=0)\n",
    "final=final.reset_index(drop=True)\n",
    "final"
   ]
  },
  {
   "cell_type": "code",
   "execution_count": 354,
   "id": "5f005ccd",
   "metadata": {},
   "outputs": [],
   "source": [
    "C=final.drop([\"species\",\"ID\"],axis=1)\n",
    "D=final[\"species\"]"
   ]
  },
  {
   "cell_type": "code",
   "execution_count": 355,
   "id": "b180c480",
   "metadata": {},
   "outputs": [],
   "source": [
    "scaler=StandardScaler()\n",
    "scaler.fit(C)\n",
    "scaled_x=pd.DataFrame(scaler.transform(C),columns=C.columns)"
   ]
  },
  {
   "cell_type": "code",
   "execution_count": 356,
   "id": "ea1deb92",
   "metadata": {},
   "outputs": [
    {
     "data": {
      "text/html": [
       "<div>\n",
       "<style scoped>\n",
       "    .dataframe tbody tr th:only-of-type {\n",
       "        vertical-align: middle;\n",
       "    }\n",
       "\n",
       "    .dataframe tbody tr th {\n",
       "        vertical-align: top;\n",
       "    }\n",
       "\n",
       "    .dataframe thead th {\n",
       "        text-align: right;\n",
       "    }\n",
       "</style>\n",
       "<table border=\"1\" class=\"dataframe\">\n",
       "  <thead>\n",
       "    <tr style=\"text-align: right;\">\n",
       "      <th></th>\n",
       "      <th>bill_depth</th>\n",
       "      <th>bill_length</th>\n",
       "      <th>wing_length</th>\n",
       "      <th>location</th>\n",
       "      <th>mass</th>\n",
       "      <th>sex</th>\n",
       "      <th>species</th>\n",
       "    </tr>\n",
       "  </thead>\n",
       "  <tbody>\n",
       "    <tr>\n",
       "      <th>0</th>\n",
       "      <td>-1.708798</td>\n",
       "      <td>0.349676</td>\n",
       "      <td>0.897819</td>\n",
       "      <td>-0.201242</td>\n",
       "      <td>0.538052</td>\n",
       "      <td>-1.092681</td>\n",
       "      <td>C</td>\n",
       "    </tr>\n",
       "    <tr>\n",
       "      <th>1</th>\n",
       "      <td>-1.654630</td>\n",
       "      <td>0.397325</td>\n",
       "      <td>0.253773</td>\n",
       "      <td>-0.201242</td>\n",
       "      <td>0.570240</td>\n",
       "      <td>-1.092681</td>\n",
       "      <td>C</td>\n",
       "    </tr>\n",
       "    <tr>\n",
       "      <th>2</th>\n",
       "      <td>0.512090</td>\n",
       "      <td>-0.293591</td>\n",
       "      <td>-0.022247</td>\n",
       "      <td>1.231514</td>\n",
       "      <td>-1.006999</td>\n",
       "      <td>-1.092681</td>\n",
       "      <td>B</td>\n",
       "    </tr>\n",
       "    <tr>\n",
       "      <th>3</th>\n",
       "      <td>-1.339311</td>\n",
       "      <td>0.184065</td>\n",
       "      <td>-0.390273</td>\n",
       "      <td>-0.201242</td>\n",
       "      <td>0.795560</td>\n",
       "      <td>-1.092681</td>\n",
       "      <td>C</td>\n",
       "    </tr>\n",
       "    <tr>\n",
       "      <th>4</th>\n",
       "      <td>0.827409</td>\n",
       "      <td>-2.018665</td>\n",
       "      <td>1.559069</td>\n",
       "      <td>1.231514</td>\n",
       "      <td>1.310577</td>\n",
       "      <td>-1.092681</td>\n",
       "      <td>C</td>\n",
       "    </tr>\n",
       "    <tr>\n",
       "      <th>...</th>\n",
       "      <td>...</td>\n",
       "      <td>...</td>\n",
       "      <td>...</td>\n",
       "      <td>...</td>\n",
       "      <td>...</td>\n",
       "      <td>...</td>\n",
       "      <td>...</td>\n",
       "    </tr>\n",
       "    <tr>\n",
       "      <th>650</th>\n",
       "      <td>0.837098</td>\n",
       "      <td>-0.196386</td>\n",
       "      <td>-0.451901</td>\n",
       "      <td>-1.633998</td>\n",
       "      <td>-0.749491</td>\n",
       "      <td>-1.092681</td>\n",
       "      <td>A</td>\n",
       "    </tr>\n",
       "    <tr>\n",
       "      <th>651</th>\n",
       "      <td>0.295418</td>\n",
       "      <td>-0.126818</td>\n",
       "      <td>0.897819</td>\n",
       "      <td>-1.633998</td>\n",
       "      <td>-0.234474</td>\n",
       "      <td>0.960868</td>\n",
       "      <td>C</td>\n",
       "    </tr>\n",
       "    <tr>\n",
       "      <th>652</th>\n",
       "      <td>1.107938</td>\n",
       "      <td>0.540273</td>\n",
       "      <td>0.897819</td>\n",
       "      <td>1.231514</td>\n",
       "      <td>-0.298851</td>\n",
       "      <td>0.960868</td>\n",
       "      <td>A</td>\n",
       "    </tr>\n",
       "    <tr>\n",
       "      <th>653</th>\n",
       "      <td>0.241250</td>\n",
       "      <td>0.802345</td>\n",
       "      <td>-0.942313</td>\n",
       "      <td>1.231514</td>\n",
       "      <td>-1.006999</td>\n",
       "      <td>-1.092681</td>\n",
       "      <td>C</td>\n",
       "    </tr>\n",
       "    <tr>\n",
       "      <th>654</th>\n",
       "      <td>-1.339311</td>\n",
       "      <td>-2.018665</td>\n",
       "      <td>-0.436096</td>\n",
       "      <td>1.231514</td>\n",
       "      <td>1.761217</td>\n",
       "      <td>-1.092681</td>\n",
       "      <td>A</td>\n",
       "    </tr>\n",
       "  </tbody>\n",
       "</table>\n",
       "<p>655 rows × 7 columns</p>\n",
       "</div>"
      ],
      "text/plain": [
       "     bill_depth  bill_length  wing_length  location      mass       sex  \\\n",
       "0     -1.708798     0.349676     0.897819 -0.201242  0.538052 -1.092681   \n",
       "1     -1.654630     0.397325     0.253773 -0.201242  0.570240 -1.092681   \n",
       "2      0.512090    -0.293591    -0.022247  1.231514 -1.006999 -1.092681   \n",
       "3     -1.339311     0.184065    -0.390273 -0.201242  0.795560 -1.092681   \n",
       "4      0.827409    -2.018665     1.559069  1.231514  1.310577 -1.092681   \n",
       "..          ...          ...          ...       ...       ...       ...   \n",
       "650    0.837098    -0.196386    -0.451901 -1.633998 -0.749491 -1.092681   \n",
       "651    0.295418    -0.126818     0.897819 -1.633998 -0.234474  0.960868   \n",
       "652    1.107938     0.540273     0.897819  1.231514 -0.298851  0.960868   \n",
       "653    0.241250     0.802345    -0.942313  1.231514 -1.006999 -1.092681   \n",
       "654   -1.339311    -2.018665    -0.436096  1.231514  1.761217 -1.092681   \n",
       "\n",
       "    species  \n",
       "0         C  \n",
       "1         C  \n",
       "2         B  \n",
       "3         C  \n",
       "4         C  \n",
       "..      ...  \n",
       "650       A  \n",
       "651       C  \n",
       "652       A  \n",
       "653       C  \n",
       "654       A  \n",
       "\n",
       "[655 rows x 7 columns]"
      ]
     },
     "execution_count": 356,
     "metadata": {},
     "output_type": "execute_result"
    }
   ],
   "source": [
    "scaled_data=scaled_x.copy()\n",
    "scaled_data[\"species\"]=D\n",
    "scaled_data"
   ]
  },
  {
   "cell_type": "code",
   "execution_count": 390,
   "id": "81bfce4a",
   "metadata": {},
   "outputs": [],
   "source": [
    "train_data=scaled_data[:546]\n",
    "test_data=scaled_data[546:].reset_index(drop=True)"
   ]
  },
  {
   "cell_type": "code",
   "execution_count": 391,
   "id": "461b25cd",
   "metadata": {},
   "outputs": [],
   "source": [
    "x_train=train_data.drop([\"species\"],axis=1)\n",
    "y_train=train_data[\"species\"]"
   ]
  },
  {
   "cell_type": "code",
   "execution_count": 392,
   "id": "5631e1e2",
   "metadata": {},
   "outputs": [],
   "source": [
    "x_test=test_data.drop([\"species\"],axis=1)\n",
    "y_test=test_data[\"species\"]"
   ]
  },
  {
   "cell_type": "markdown",
   "id": "c76c9d54",
   "metadata": {},
   "source": [
    "## Data Validation"
   ]
  },
  {
   "cell_type": "code",
   "execution_count": 393,
   "id": "51977ab9",
   "metadata": {},
   "outputs": [],
   "source": [
    "kf=KFold(n_splits=5,shuffle=True, random_state=42)"
   ]
  },
  {
   "cell_type": "code",
   "execution_count": 394,
   "id": "010f00fc",
   "metadata": {},
   "outputs": [
    {
     "data": {
      "text/html": [
       "<div>\n",
       "<style scoped>\n",
       "    .dataframe tbody tr th:only-of-type {\n",
       "        vertical-align: middle;\n",
       "    }\n",
       "\n",
       "    .dataframe tbody tr th {\n",
       "        vertical-align: top;\n",
       "    }\n",
       "\n",
       "    .dataframe thead th {\n",
       "        text-align: right;\n",
       "    }\n",
       "</style>\n",
       "<table border=\"1\" class=\"dataframe\">\n",
       "  <thead>\n",
       "    <tr style=\"text-align: right;\">\n",
       "      <th></th>\n",
       "      <th>bill_depth</th>\n",
       "      <th>bill_length</th>\n",
       "      <th>wing_length</th>\n",
       "      <th>location</th>\n",
       "      <th>mass</th>\n",
       "      <th>sex</th>\n",
       "      <th>species</th>\n",
       "    </tr>\n",
       "  </thead>\n",
       "  <tbody>\n",
       "    <tr>\n",
       "      <th>0</th>\n",
       "      <td>-1.339311</td>\n",
       "      <td>-2.018665</td>\n",
       "      <td>1.559069</td>\n",
       "      <td>-0.201242</td>\n",
       "      <td>1.568086</td>\n",
       "      <td>-1.092681</td>\n",
       "      <td>A</td>\n",
       "    </tr>\n",
       "    <tr>\n",
       "      <th>1</th>\n",
       "      <td>-2.304647</td>\n",
       "      <td>-0.150643</td>\n",
       "      <td>0.989825</td>\n",
       "      <td>-0.201242</td>\n",
       "      <td>0.409297</td>\n",
       "      <td>-1.092681</td>\n",
       "      <td>C</td>\n",
       "    </tr>\n",
       "    <tr>\n",
       "      <th>2</th>\n",
       "      <td>1.378778</td>\n",
       "      <td>-0.335046</td>\n",
       "      <td>-0.298267</td>\n",
       "      <td>1.231514</td>\n",
       "      <td>-1.135754</td>\n",
       "      <td>0.960868</td>\n",
       "      <td>C</td>\n",
       "    </tr>\n",
       "    <tr>\n",
       "      <th>3</th>\n",
       "      <td>0.024578</td>\n",
       "      <td>-1.891897</td>\n",
       "      <td>-0.942313</td>\n",
       "      <td>1.231514</td>\n",
       "      <td>-0.363228</td>\n",
       "      <td>-1.092681</td>\n",
       "      <td>B</td>\n",
       "    </tr>\n",
       "    <tr>\n",
       "      <th>4</th>\n",
       "      <td>0.782930</td>\n",
       "      <td>-0.136348</td>\n",
       "      <td>-1.494352</td>\n",
       "      <td>-0.201242</td>\n",
       "      <td>-0.813868</td>\n",
       "      <td>0.960868</td>\n",
       "      <td>C</td>\n",
       "    </tr>\n",
       "    <tr>\n",
       "      <th>...</th>\n",
       "      <td>...</td>\n",
       "      <td>...</td>\n",
       "      <td>...</td>\n",
       "      <td>...</td>\n",
       "      <td>...</td>\n",
       "      <td>...</td>\n",
       "      <td>...</td>\n",
       "    </tr>\n",
       "    <tr>\n",
       "      <th>104</th>\n",
       "      <td>0.837098</td>\n",
       "      <td>-0.196386</td>\n",
       "      <td>-0.451901</td>\n",
       "      <td>-1.633998</td>\n",
       "      <td>-0.749491</td>\n",
       "      <td>-1.092681</td>\n",
       "      <td>A</td>\n",
       "    </tr>\n",
       "    <tr>\n",
       "      <th>105</th>\n",
       "      <td>0.295418</td>\n",
       "      <td>-0.126818</td>\n",
       "      <td>0.897819</td>\n",
       "      <td>-1.633998</td>\n",
       "      <td>-0.234474</td>\n",
       "      <td>0.960868</td>\n",
       "      <td>C</td>\n",
       "    </tr>\n",
       "    <tr>\n",
       "      <th>106</th>\n",
       "      <td>1.107938</td>\n",
       "      <td>0.540273</td>\n",
       "      <td>0.897819</td>\n",
       "      <td>1.231514</td>\n",
       "      <td>-0.298851</td>\n",
       "      <td>0.960868</td>\n",
       "      <td>A</td>\n",
       "    </tr>\n",
       "    <tr>\n",
       "      <th>107</th>\n",
       "      <td>0.241250</td>\n",
       "      <td>0.802345</td>\n",
       "      <td>-0.942313</td>\n",
       "      <td>1.231514</td>\n",
       "      <td>-1.006999</td>\n",
       "      <td>-1.092681</td>\n",
       "      <td>C</td>\n",
       "    </tr>\n",
       "    <tr>\n",
       "      <th>108</th>\n",
       "      <td>-1.339311</td>\n",
       "      <td>-2.018665</td>\n",
       "      <td>-0.436096</td>\n",
       "      <td>1.231514</td>\n",
       "      <td>1.761217</td>\n",
       "      <td>-1.092681</td>\n",
       "      <td>A</td>\n",
       "    </tr>\n",
       "  </tbody>\n",
       "</table>\n",
       "<p>109 rows × 7 columns</p>\n",
       "</div>"
      ],
      "text/plain": [
       "     bill_depth  bill_length  wing_length  location      mass       sex  \\\n",
       "0     -1.339311    -2.018665     1.559069 -0.201242  1.568086 -1.092681   \n",
       "1     -2.304647    -0.150643     0.989825 -0.201242  0.409297 -1.092681   \n",
       "2      1.378778    -0.335046    -0.298267  1.231514 -1.135754  0.960868   \n",
       "3      0.024578    -1.891897    -0.942313  1.231514 -0.363228 -1.092681   \n",
       "4      0.782930    -0.136348    -1.494352 -0.201242 -0.813868  0.960868   \n",
       "..          ...          ...          ...       ...       ...       ...   \n",
       "104    0.837098    -0.196386    -0.451901 -1.633998 -0.749491 -1.092681   \n",
       "105    0.295418    -0.126818     0.897819 -1.633998 -0.234474  0.960868   \n",
       "106    1.107938     0.540273     0.897819  1.231514 -0.298851  0.960868   \n",
       "107    0.241250     0.802345    -0.942313  1.231514 -1.006999 -1.092681   \n",
       "108   -1.339311    -2.018665    -0.436096  1.231514  1.761217 -1.092681   \n",
       "\n",
       "    species  \n",
       "0         A  \n",
       "1         C  \n",
       "2         C  \n",
       "3         B  \n",
       "4         C  \n",
       "..      ...  \n",
       "104       A  \n",
       "105       C  \n",
       "106       A  \n",
       "107       C  \n",
       "108       A  \n",
       "\n",
       "[109 rows x 7 columns]"
      ]
     },
     "execution_count": 394,
     "metadata": {},
     "output_type": "execute_result"
    }
   ],
   "source": [
    "test_data"
   ]
  },
  {
   "cell_type": "markdown",
   "id": "9f246ce0",
   "metadata": {},
   "source": [
    "## Model Creation"
   ]
  },
  {
   "cell_type": "code",
   "execution_count": 395,
   "id": "055c4d9e",
   "metadata": {},
   "outputs": [],
   "source": [
    "log_model=LogisticRegression(multi_class='multinomial').fit(x_train,y_train)\n",
    "y_pred=log_model.predict(x_test)"
   ]
  },
  {
   "cell_type": "code",
   "execution_count": 396,
   "id": "67ff7f03",
   "metadata": {},
   "outputs": [
    {
     "data": {
      "text/plain": [
       "array([0.84545455, 0.83486239, 0.7706422 , 0.88073394, 0.81651376])"
      ]
     },
     "execution_count": 396,
     "metadata": {},
     "output_type": "execute_result"
    }
   ],
   "source": [
    "dt_score=cross_val_score(log_model,x_train,y_train,scoring=\"accuracy\",cv=kf)\n",
    "dt_score"
   ]
  },
  {
   "cell_type": "code",
   "execution_count": 397,
   "id": "ceccb527",
   "metadata": {},
   "outputs": [
    {
     "data": {
      "text/plain": [
       "array([0.45454545, 0.31818182, 0.36363636, 0.31818182, 0.14285714])"
      ]
     },
     "execution_count": 397,
     "metadata": {},
     "output_type": "execute_result"
    }
   ],
   "source": [
    "dt_score=cross_val_score(log_model,x_test,y_test,scoring=\"accuracy\",cv=kf)\n",
    "dt_score"
   ]
  },
  {
   "cell_type": "code",
   "execution_count": 398,
   "id": "24b48029",
   "metadata": {},
   "outputs": [
    {
     "data": {
      "text/plain": [
       "0.3669724770642202"
      ]
     },
     "execution_count": 398,
     "metadata": {},
     "output_type": "execute_result"
    }
   ],
   "source": [
    "log_model.score(x_test,y_test)"
   ]
  },
  {
   "cell_type": "code",
   "execution_count": null,
   "id": "b45f2bb8",
   "metadata": {},
   "outputs": [],
   "source": []
  },
  {
   "cell_type": "markdown",
   "id": "241fb4f1",
   "metadata": {},
   "source": [
    "## Naive Baye's classifier"
   ]
  },
  {
   "cell_type": "code",
   "execution_count": 399,
   "id": "1fafb9a4",
   "metadata": {},
   "outputs": [],
   "source": [
    "gss_model=GaussianNB().fit(x_train,y_train)\n",
    "y_pred=gss_model.predict(x_test)"
   ]
  },
  {
   "cell_type": "code",
   "execution_count": 400,
   "id": "cc0cbddd",
   "metadata": {},
   "outputs": [
    {
     "data": {
      "text/plain": [
       "array([0.85454545, 0.86238532, 0.78899083, 0.85321101, 0.85321101])"
      ]
     },
     "execution_count": 400,
     "metadata": {},
     "output_type": "execute_result"
    }
   ],
   "source": [
    "gss_score=cross_val_score(gss_model,x_train,y_train,scoring=\"accuracy\",cv=kf)\n",
    "gss_score"
   ]
  },
  {
   "cell_type": "code",
   "execution_count": 401,
   "id": "e0389db5",
   "metadata": {},
   "outputs": [
    {
     "data": {
      "text/plain": [
       "array([0.31818182, 0.36363636, 0.31818182, 0.27272727, 0.23809524])"
      ]
     },
     "execution_count": 401,
     "metadata": {},
     "output_type": "execute_result"
    }
   ],
   "source": [
    "gss_score=cross_val_score(gss_model,x_test,y_test,scoring=\"accuracy\",cv=kf)\n",
    "gss_score"
   ]
  },
  {
   "cell_type": "code",
   "execution_count": 402,
   "id": "d96d6a9d",
   "metadata": {},
   "outputs": [
    {
     "data": {
      "text/plain": [
       "0.8608058608058609"
      ]
     },
     "execution_count": 402,
     "metadata": {},
     "output_type": "execute_result"
    }
   ],
   "source": [
    "gss_model.score(x_train,y_train)"
   ]
  },
  {
   "cell_type": "code",
   "execution_count": 403,
   "id": "2832d311",
   "metadata": {},
   "outputs": [
    {
     "data": {
      "text/plain": [
       "0.3486238532110092"
      ]
     },
     "execution_count": 403,
     "metadata": {},
     "output_type": "execute_result"
    }
   ],
   "source": [
    "gss_model.score(x_test,y_test)"
   ]
  },
  {
   "cell_type": "code",
   "execution_count": null,
   "id": "4eeac2e7",
   "metadata": {},
   "outputs": [],
   "source": []
  },
  {
   "cell_type": "markdown",
   "id": "e1049078",
   "metadata": {},
   "source": [
    "## Decision tree classifier"
   ]
  },
  {
   "cell_type": "code",
   "execution_count": 404,
   "id": "f0ea5837",
   "metadata": {},
   "outputs": [],
   "source": [
    "param_grid={'min_samples_split':np.arange(10,51,10),\n",
    "           'min_samples_leaf':np.arange(10,101,20),\n",
    "           'max_depth':np.arange(3,10)}"
   ]
  },
  {
   "cell_type": "code",
   "execution_count": 405,
   "id": "6f5f914c",
   "metadata": {},
   "outputs": [],
   "source": [
    "dt=DecisionTreeClassifier()"
   ]
  },
  {
   "cell_type": "code",
   "execution_count": 406,
   "id": "ca78a9d5",
   "metadata": {},
   "outputs": [],
   "source": [
    "grid_cv=GridSearchCV(dt,param_grid,scoring=\"accuracy\",cv=kf)"
   ]
  },
  {
   "cell_type": "code",
   "execution_count": 407,
   "id": "2d064fe9",
   "metadata": {},
   "outputs": [
    {
     "data": {
      "text/plain": [
       "GridSearchCV(cv=KFold(n_splits=5, random_state=42, shuffle=True),\n",
       "             estimator=DecisionTreeClassifier(),\n",
       "             param_grid={'max_depth': array([3, 4, 5, 6, 7, 8, 9]),\n",
       "                         'min_samples_leaf': array([10, 30, 50, 70, 90]),\n",
       "                         'min_samples_split': array([10, 20, 30, 40, 50])},\n",
       "             scoring='accuracy')"
      ]
     },
     "execution_count": 407,
     "metadata": {},
     "output_type": "execute_result"
    }
   ],
   "source": [
    "grid_cv.fit(x_train,y_train)"
   ]
  },
  {
   "cell_type": "code",
   "execution_count": 408,
   "id": "18a5a310",
   "metadata": {},
   "outputs": [
    {
     "data": {
      "text/plain": [
       "DecisionTreeClassifier(max_depth=9, min_samples_leaf=10, min_samples_split=10)"
      ]
     },
     "execution_count": 408,
     "metadata": {},
     "output_type": "execute_result"
    }
   ],
   "source": [
    "grid_cv.best_estimator_"
   ]
  },
  {
   "cell_type": "code",
   "execution_count": 409,
   "id": "a61b59cd",
   "metadata": {},
   "outputs": [],
   "source": [
    "dt_model=DecisionTreeClassifier(max_depth=9, min_samples_leaf=10, min_samples_split=10).fit(x_train,y_train)\n",
    "y_pred=dt_model.predict(x_test)"
   ]
  },
  {
   "cell_type": "code",
   "execution_count": 377,
   "id": "4f012d7f",
   "metadata": {},
   "outputs": [
    {
     "data": {
      "text/plain": [
       "array([0.91818182, 0.82568807, 0.8440367 , 0.86238532, 0.89908257])"
      ]
     },
     "execution_count": 377,
     "metadata": {},
     "output_type": "execute_result"
    }
   ],
   "source": [
    "dt_score=cross_val_score(dt_model,x_train,y_train,scoring=\"accuracy\",cv=kf)\n",
    "dt_score"
   ]
  },
  {
   "cell_type": "code",
   "execution_count": 378,
   "id": "b009f3e4",
   "metadata": {},
   "outputs": [
    {
     "data": {
      "text/plain": [
       "array([0.22727273, 0.27272727, 0.27272727, 0.22727273, 0.22727273])"
      ]
     },
     "execution_count": 378,
     "metadata": {},
     "output_type": "execute_result"
    }
   ],
   "source": [
    "dt_score=cross_val_score(dt_model,x_test,y_test,scoring=\"accuracy\",cv=kf)\n",
    "dt_score"
   ]
  },
  {
   "cell_type": "code",
   "execution_count": 379,
   "id": "558d02e9",
   "metadata": {},
   "outputs": [
    {
     "data": {
      "text/plain": [
       "0.9157509157509157"
      ]
     },
     "execution_count": 379,
     "metadata": {},
     "output_type": "execute_result"
    }
   ],
   "source": [
    "dt_model.score(x_train,y_train)"
   ]
  },
  {
   "cell_type": "code",
   "execution_count": 380,
   "id": "367c5d52",
   "metadata": {},
   "outputs": [
    {
     "data": {
      "text/plain": [
       "0.32727272727272727"
      ]
     },
     "execution_count": 380,
     "metadata": {},
     "output_type": "execute_result"
    }
   ],
   "source": [
    "dt_model.score(x_test,y_test)"
   ]
  },
  {
   "cell_type": "code",
   "execution_count": 381,
   "id": "0559e3e0",
   "metadata": {},
   "outputs": [
    {
     "data": {
      "image/png": "[encoded data removed]",
      "text/plain": [
       "<Figure size 1200x600 with 1 Axes>"
      ]
     },
     "metadata": {},
     "output_type": "display_data"
    }
   ],
   "source": [
    "plt.figure(figsize=(12,6))\n",
    "tree.plot_tree(dt_model,feature_names=scaled_x.columns,filled=True)\n",
    "plt.show()"
   ]
  },
  {
   "cell_type": "code",
   "execution_count": 412,
   "id": "c39e3687",
   "metadata": {},
   "outputs": [
    {
     "data": {
      "text/html": [
       "<div>\n",
       "<style scoped>\n",
       "    .dataframe tbody tr th:only-of-type {\n",
       "        vertical-align: middle;\n",
       "    }\n",
       "\n",
       "    .dataframe tbody tr th {\n",
       "        vertical-align: top;\n",
       "    }\n",
       "\n",
       "    .dataframe thead th {\n",
       "        text-align: right;\n",
       "    }\n",
       "</style>\n",
       "<table border=\"1\" class=\"dataframe\">\n",
       "  <thead>\n",
       "    <tr style=\"text-align: right;\">\n",
       "      <th></th>\n",
       "      <th>0</th>\n",
       "    </tr>\n",
       "  </thead>\n",
       "  <tbody>\n",
       "    <tr>\n",
       "      <th>0</th>\n",
       "      <td>C</td>\n",
       "    </tr>\n",
       "    <tr>\n",
       "      <th>1</th>\n",
       "      <td>C</td>\n",
       "    </tr>\n",
       "    <tr>\n",
       "      <th>2</th>\n",
       "      <td>B</td>\n",
       "    </tr>\n",
       "    <tr>\n",
       "      <th>3</th>\n",
       "      <td>B</td>\n",
       "    </tr>\n",
       "    <tr>\n",
       "      <th>4</th>\n",
       "      <td>A</td>\n",
       "    </tr>\n",
       "    <tr>\n",
       "      <th>...</th>\n",
       "      <td>...</td>\n",
       "    </tr>\n",
       "    <tr>\n",
       "      <th>104</th>\n",
       "      <td>A</td>\n",
       "    </tr>\n",
       "    <tr>\n",
       "      <th>105</th>\n",
       "      <td>A</td>\n",
       "    </tr>\n",
       "    <tr>\n",
       "      <th>106</th>\n",
       "      <td>B</td>\n",
       "    </tr>\n",
       "    <tr>\n",
       "      <th>107</th>\n",
       "      <td>B</td>\n",
       "    </tr>\n",
       "    <tr>\n",
       "      <th>108</th>\n",
       "      <td>C</td>\n",
       "    </tr>\n",
       "  </tbody>\n",
       "</table>\n",
       "<p>109 rows × 1 columns</p>\n",
       "</div>"
      ],
      "text/plain": [
       "     0\n",
       "0    C\n",
       "1    C\n",
       "2    B\n",
       "3    B\n",
       "4    A\n",
       "..  ..\n",
       "104  A\n",
       "105  A\n",
       "106  B\n",
       "107  B\n",
       "108  C\n",
       "\n",
       "[109 rows x 1 columns]"
      ]
     },
     "execution_count": 412,
     "metadata": {},
     "output_type": "execute_result"
    }
   ],
   "source": [
    "pred_df=pd.DataFrame(y_pred)\n",
    "pred_df"
   ]
  },
  {
   "cell_type": "code",
   "execution_count": 413,
   "id": "20f4d92d",
   "metadata": {},
   "outputs": [],
   "source": [
    "pred_df.to_csv('pred_df.csv',index=False)"
   ]
  },
  {
   "cell_type": "code",
   "execution_count": 382,
   "id": "0d1a0ee6",
   "metadata": {},
   "outputs": [
    {
     "data": {
      "text/plain": [
       "array(['B', 'C', 'C', 'B', 'B', 'A', 'A', 'B', 'B', 'B', 'C', 'C', 'B',\n",
       "       'C', 'A', 'A', 'B', 'A', 'A', 'A', 'C', 'A', 'B', 'C', 'B', 'C',\n",
       "       'C', 'A', 'C', 'A', 'C', 'C', 'B', 'C', 'A', 'A', 'B', 'C', 'C',\n",
       "       'C', 'A', 'A', 'C', 'B', 'A', 'C', 'C', 'B', 'B', 'A', 'C', 'A',\n",
       "       'C', 'A', 'B', 'B', 'B', 'A', 'C', 'B', 'A', 'A', 'B', 'C', 'A',\n",
       "       'A', 'A', 'B', 'A', 'C', 'A', 'B', 'C', 'A', 'C', 'C', 'A', 'C',\n",
       "       'C', 'A', 'A', 'A', 'B', 'A', 'C', 'A', 'A', 'C', 'A', 'A', 'C',\n",
       "       'A', 'A', 'C', 'C', 'A', 'A', 'C', 'C', 'C', 'A', 'A', 'C', 'A',\n",
       "       'A', 'A', 'A', 'B', 'B', 'C'], dtype=object)"
      ]
     },
     "execution_count": 382,
     "metadata": {},
     "output_type": "execute_result"
    }
   ],
   "source": [
    "y_pred"
   ]
  },
  {
   "cell_type": "markdown",
   "id": "b6830be1",
   "metadata": {},
   "source": [
    "## Random forest classifier"
   ]
  },
  {
   "cell_type": "code",
   "execution_count": 137,
   "id": "88ab0ba6",
   "metadata": {},
   "outputs": [],
   "source": [
    "param_grid={'n_estimators':np.arange(20,101,20),\n",
    "           'min_samples_split':np.arange(10,51,10),\n",
    "           'min_samples_leaf':np.arange(3,10),\n",
    "           'max_depth':np.arange(3,10)}"
   ]
  },
  {
   "cell_type": "code",
   "execution_count": 138,
   "id": "784d6294",
   "metadata": {},
   "outputs": [],
   "source": [
    "rf=RandomForestClassifier()"
   ]
  },
  {
   "cell_type": "code",
   "execution_count": 139,
   "id": "43a15b9d",
   "metadata": {},
   "outputs": [],
   "source": [
    "grid_cv=GridSearchCV(rf,param_grid,scoring=\"accuracy\",cv=kf)"
   ]
  },
  {
   "cell_type": "code",
   "execution_count": 140,
   "id": "a6369195",
   "metadata": {},
   "outputs": [
    {
     "ename": "KeyboardInterrupt",
     "evalue": "",
     "output_type": "error",
     "traceback": [
      "\u001b[1;31m---------------------------------------------------------------------------\u001b[0m",
      "\u001b[1;31mKeyboardInterrupt\u001b[0m                         Traceback (most recent call last)",
      "\u001b[1;32m~\\AppData\\Local\\Temp\\ipykernel_12668\\886254984.py\u001b[0m in \u001b[0;36m<module>\u001b[1;34m\u001b[0m\n\u001b[1;32m----> 1\u001b[1;33m \u001b[0mgrid_cv\u001b[0m\u001b[1;33m.\u001b[0m\u001b[0mfit\u001b[0m\u001b[1;33m(\u001b[0m\u001b[0mx_train\u001b[0m\u001b[1;33m,\u001b[0m\u001b[0my_train\u001b[0m\u001b[1;33m)\u001b[0m\u001b[1;33m\u001b[0m\u001b[1;33m\u001b[0m\u001b[0m\n\u001b[0m",
      "\u001b[1;32m~\\anaconda3\\lib\\site-packages\\sklearn\\model_selection\\_search.py\u001b[0m in \u001b[0;36mfit\u001b[1;34m(self, X, y, groups, **fit_params)\u001b[0m\n\u001b[0;32m    889\u001b[0m                 \u001b[1;32mreturn\u001b[0m \u001b[0mresults\u001b[0m\u001b[1;33m\u001b[0m\u001b[1;33m\u001b[0m\u001b[0m\n\u001b[0;32m    890\u001b[0m \u001b[1;33m\u001b[0m\u001b[0m\n\u001b[1;32m--> 891\u001b[1;33m             \u001b[0mself\u001b[0m\u001b[1;33m.\u001b[0m\u001b[0m_run_search\u001b[0m\u001b[1;33m(\u001b[0m\u001b[0mevaluate_candidates\u001b[0m\u001b[1;33m)\u001b[0m\u001b[1;33m\u001b[0m\u001b[1;33m\u001b[0m\u001b[0m\n\u001b[0m\u001b[0;32m    892\u001b[0m \u001b[1;33m\u001b[0m\u001b[0m\n\u001b[0;32m    893\u001b[0m             \u001b[1;31m# multimetric is determined here because in the case of a callable\u001b[0m\u001b[1;33m\u001b[0m\u001b[1;33m\u001b[0m\u001b[0m\n",
      "\u001b[1;32m~\\anaconda3\\lib\\site-packages\\sklearn\\model_selection\\_search.py\u001b[0m in \u001b[0;36m_run_search\u001b[1;34m(self, evaluate_candidates)\u001b[0m\n\u001b[0;32m   1390\u001b[0m     \u001b[1;32mdef\u001b[0m \u001b[0m_run_search\u001b[0m\u001b[1;33m(\u001b[0m\u001b[0mself\u001b[0m\u001b[1;33m,\u001b[0m \u001b[0mevaluate_candidates\u001b[0m\u001b[1;33m)\u001b[0m\u001b[1;33m:\u001b[0m\u001b[1;33m\u001b[0m\u001b[1;33m\u001b[0m\u001b[0m\n\u001b[0;32m   1391\u001b[0m         \u001b[1;34m\"\"\"Search all candidates in param_grid\"\"\"\u001b[0m\u001b[1;33m\u001b[0m\u001b[1;33m\u001b[0m\u001b[0m\n\u001b[1;32m-> 1392\u001b[1;33m         \u001b[0mevaluate_candidates\u001b[0m\u001b[1;33m(\u001b[0m\u001b[0mParameterGrid\u001b[0m\u001b[1;33m(\u001b[0m\u001b[0mself\u001b[0m\u001b[1;33m.\u001b[0m\u001b[0mparam_grid\u001b[0m\u001b[1;33m)\u001b[0m\u001b[1;33m)\u001b[0m\u001b[1;33m\u001b[0m\u001b[1;33m\u001b[0m\u001b[0m\n\u001b[0m\u001b[0;32m   1393\u001b[0m \u001b[1;33m\u001b[0m\u001b[0m\n\u001b[0;32m   1394\u001b[0m \u001b[1;33m\u001b[0m\u001b[0m\n",
      "\u001b[1;32m~\\anaconda3\\lib\\site-packages\\sklearn\\model_selection\\_search.py\u001b[0m in \u001b[0;36mevaluate_candidates\u001b[1;34m(candidate_params, cv, more_results)\u001b[0m\n\u001b[0;32m    836\u001b[0m                     )\n\u001b[0;32m    837\u001b[0m \u001b[1;33m\u001b[0m\u001b[0m\n\u001b[1;32m--> 838\u001b[1;33m                 out = parallel(\n\u001b[0m\u001b[0;32m    839\u001b[0m                     delayed(_fit_and_score)(\n\u001b[0;32m    840\u001b[0m                         \u001b[0mclone\u001b[0m\u001b[1;33m(\u001b[0m\u001b[0mbase_estimator\u001b[0m\u001b[1;33m)\u001b[0m\u001b[1;33m,\u001b[0m\u001b[1;33m\u001b[0m\u001b[1;33m\u001b[0m\u001b[0m\n",
      "\u001b[1;32m~\\anaconda3\\lib\\site-packages\\joblib\\parallel.py\u001b[0m in \u001b[0;36m__call__\u001b[1;34m(self, iterable)\u001b[0m\n\u001b[0;32m   1086\u001b[0m                 \u001b[0mself\u001b[0m\u001b[1;33m.\u001b[0m\u001b[0m_iterating\u001b[0m \u001b[1;33m=\u001b[0m \u001b[0mself\u001b[0m\u001b[1;33m.\u001b[0m\u001b[0m_original_iterator\u001b[0m \u001b[1;32mis\u001b[0m \u001b[1;32mnot\u001b[0m \u001b[1;32mNone\u001b[0m\u001b[1;33m\u001b[0m\u001b[1;33m\u001b[0m\u001b[0m\n\u001b[0;32m   1087\u001b[0m \u001b[1;33m\u001b[0m\u001b[0m\n\u001b[1;32m-> 1088\u001b[1;33m             \u001b[1;32mwhile\u001b[0m \u001b[0mself\u001b[0m\u001b[1;33m.\u001b[0m\u001b[0mdispatch_one_batch\u001b[0m\u001b[1;33m(\u001b[0m\u001b[0miterator\u001b[0m\u001b[1;33m)\u001b[0m\u001b[1;33m:\u001b[0m\u001b[1;33m\u001b[0m\u001b[1;33m\u001b[0m\u001b[0m\n\u001b[0m\u001b[0;32m   1089\u001b[0m                 \u001b[1;32mpass\u001b[0m\u001b[1;33m\u001b[0m\u001b[1;33m\u001b[0m\u001b[0m\n\u001b[0;32m   1090\u001b[0m \u001b[1;33m\u001b[0m\u001b[0m\n",
      "\u001b[1;32m~\\anaconda3\\lib\\site-packages\\joblib\\parallel.py\u001b[0m in \u001b[0;36mdispatch_one_batch\u001b[1;34m(self, iterator)\u001b[0m\n\u001b[0;32m    899\u001b[0m                 \u001b[1;32mreturn\u001b[0m \u001b[1;32mFalse\u001b[0m\u001b[1;33m\u001b[0m\u001b[1;33m\u001b[0m\u001b[0m\n\u001b[0;32m    900\u001b[0m             \u001b[1;32melse\u001b[0m\u001b[1;33m:\u001b[0m\u001b[1;33m\u001b[0m\u001b[1;33m\u001b[0m\u001b[0m\n\u001b[1;32m--> 901\u001b[1;33m                 \u001b[0mself\u001b[0m\u001b[1;33m.\u001b[0m\u001b[0m_dispatch\u001b[0m\u001b[1;33m(\u001b[0m\u001b[0mtasks\u001b[0m\u001b[1;33m)\u001b[0m\u001b[1;33m\u001b[0m\u001b[1;33m\u001b[0m\u001b[0m\n\u001b[0m\u001b[0;32m    902\u001b[0m                 \u001b[1;32mreturn\u001b[0m \u001b[1;32mTrue\u001b[0m\u001b[1;33m\u001b[0m\u001b[1;33m\u001b[0m\u001b[0m\n\u001b[0;32m    903\u001b[0m \u001b[1;33m\u001b[0m\u001b[0m\n",
      "\u001b[1;32m~\\anaconda3\\lib\\site-packages\\joblib\\parallel.py\u001b[0m in \u001b[0;36m_dispatch\u001b[1;34m(self, batch)\u001b[0m\n\u001b[0;32m    817\u001b[0m         \u001b[1;32mwith\u001b[0m \u001b[0mself\u001b[0m\u001b[1;33m.\u001b[0m\u001b[0m_lock\u001b[0m\u001b[1;33m:\u001b[0m\u001b[1;33m\u001b[0m\u001b[1;33m\u001b[0m\u001b[0m\n\u001b[0;32m    818\u001b[0m             \u001b[0mjob_idx\u001b[0m \u001b[1;33m=\u001b[0m \u001b[0mlen\u001b[0m\u001b[1;33m(\u001b[0m\u001b[0mself\u001b[0m\u001b[1;33m.\u001b[0m\u001b[0m_jobs\u001b[0m\u001b[1;33m)\u001b[0m\u001b[1;33m\u001b[0m\u001b[1;33m\u001b[0m\u001b[0m\n\u001b[1;32m--> 819\u001b[1;33m             \u001b[0mjob\u001b[0m \u001b[1;33m=\u001b[0m \u001b[0mself\u001b[0m\u001b[1;33m.\u001b[0m\u001b[0m_backend\u001b[0m\u001b[1;33m.\u001b[0m\u001b[0mapply_async\u001b[0m\u001b[1;33m(\u001b[0m\u001b[0mbatch\u001b[0m\u001b[1;33m,\u001b[0m \u001b[0mcallback\u001b[0m\u001b[1;33m=\u001b[0m\u001b[0mcb\u001b[0m\u001b[1;33m)\u001b[0m\u001b[1;33m\u001b[0m\u001b[1;33m\u001b[0m\u001b[0m\n\u001b[0m\u001b[0;32m    820\u001b[0m             \u001b[1;31m# A job can complete so quickly than its callback is\u001b[0m\u001b[1;33m\u001b[0m\u001b[1;33m\u001b[0m\u001b[0m\n\u001b[0;32m    821\u001b[0m             \u001b[1;31m# called before we get here, causing self._jobs to\u001b[0m\u001b[1;33m\u001b[0m\u001b[1;33m\u001b[0m\u001b[0m\n",
      "\u001b[1;32m~\\anaconda3\\lib\\site-packages\\joblib\\_parallel_backends.py\u001b[0m in \u001b[0;36mapply_async\u001b[1;34m(self, func, callback)\u001b[0m\n\u001b[0;32m    206\u001b[0m     \u001b[1;32mdef\u001b[0m \u001b[0mapply_async\u001b[0m\u001b[1;33m(\u001b[0m\u001b[0mself\u001b[0m\u001b[1;33m,\u001b[0m \u001b[0mfunc\u001b[0m\u001b[1;33m,\u001b[0m \u001b[0mcallback\u001b[0m\u001b[1;33m=\u001b[0m\u001b[1;32mNone\u001b[0m\u001b[1;33m)\u001b[0m\u001b[1;33m:\u001b[0m\u001b[1;33m\u001b[0m\u001b[1;33m\u001b[0m\u001b[0m\n\u001b[0;32m    207\u001b[0m         \u001b[1;34m\"\"\"Schedule a func to be run\"\"\"\u001b[0m\u001b[1;33m\u001b[0m\u001b[1;33m\u001b[0m\u001b[0m\n\u001b[1;32m--> 208\u001b[1;33m         \u001b[0mresult\u001b[0m \u001b[1;33m=\u001b[0m \u001b[0mImmediateResult\u001b[0m\u001b[1;33m(\u001b[0m\u001b[0mfunc\u001b[0m\u001b[1;33m)\u001b[0m\u001b[1;33m\u001b[0m\u001b[1;33m\u001b[0m\u001b[0m\n\u001b[0m\u001b[0;32m    209\u001b[0m         \u001b[1;32mif\u001b[0m \u001b[0mcallback\u001b[0m\u001b[1;33m:\u001b[0m\u001b[1;33m\u001b[0m\u001b[1;33m\u001b[0m\u001b[0m\n\u001b[0;32m    210\u001b[0m             \u001b[0mcallback\u001b[0m\u001b[1;33m(\u001b[0m\u001b[0mresult\u001b[0m\u001b[1;33m)\u001b[0m\u001b[1;33m\u001b[0m\u001b[1;33m\u001b[0m\u001b[0m\n",
      "\u001b[1;32m~\\anaconda3\\lib\\site-packages\\joblib\\_parallel_backends.py\u001b[0m in \u001b[0;36m__init__\u001b[1;34m(self, batch)\u001b[0m\n\u001b[0;32m    595\u001b[0m         \u001b[1;31m# Don't delay the application, to avoid keeping the input\u001b[0m\u001b[1;33m\u001b[0m\u001b[1;33m\u001b[0m\u001b[0m\n\u001b[0;32m    596\u001b[0m         \u001b[1;31m# arguments in memory\u001b[0m\u001b[1;33m\u001b[0m\u001b[1;33m\u001b[0m\u001b[0m\n\u001b[1;32m--> 597\u001b[1;33m         \u001b[0mself\u001b[0m\u001b[1;33m.\u001b[0m\u001b[0mresults\u001b[0m \u001b[1;33m=\u001b[0m \u001b[0mbatch\u001b[0m\u001b[1;33m(\u001b[0m\u001b[1;33m)\u001b[0m\u001b[1;33m\u001b[0m\u001b[1;33m\u001b[0m\u001b[0m\n\u001b[0m\u001b[0;32m    598\u001b[0m \u001b[1;33m\u001b[0m\u001b[0m\n\u001b[0;32m    599\u001b[0m     \u001b[1;32mdef\u001b[0m \u001b[0mget\u001b[0m\u001b[1;33m(\u001b[0m\u001b[0mself\u001b[0m\u001b[1;33m)\u001b[0m\u001b[1;33m:\u001b[0m\u001b[1;33m\u001b[0m\u001b[1;33m\u001b[0m\u001b[0m\n",
      "\u001b[1;32m~\\anaconda3\\lib\\site-packages\\joblib\\parallel.py\u001b[0m in \u001b[0;36m__call__\u001b[1;34m(self)\u001b[0m\n\u001b[0;32m    286\u001b[0m         \u001b[1;31m# change the default number of processes to -1\u001b[0m\u001b[1;33m\u001b[0m\u001b[1;33m\u001b[0m\u001b[0m\n\u001b[0;32m    287\u001b[0m         \u001b[1;32mwith\u001b[0m \u001b[0mparallel_backend\u001b[0m\u001b[1;33m(\u001b[0m\u001b[0mself\u001b[0m\u001b[1;33m.\u001b[0m\u001b[0m_backend\u001b[0m\u001b[1;33m,\u001b[0m \u001b[0mn_jobs\u001b[0m\u001b[1;33m=\u001b[0m\u001b[0mself\u001b[0m\u001b[1;33m.\u001b[0m\u001b[0m_n_jobs\u001b[0m\u001b[1;33m)\u001b[0m\u001b[1;33m:\u001b[0m\u001b[1;33m\u001b[0m\u001b[1;33m\u001b[0m\u001b[0m\n\u001b[1;32m--> 288\u001b[1;33m             return [func(*args, **kwargs)\n\u001b[0m\u001b[0;32m    289\u001b[0m                     for func, args, kwargs in self.items]\n\u001b[0;32m    290\u001b[0m \u001b[1;33m\u001b[0m\u001b[0m\n",
      "\u001b[1;32m~\\anaconda3\\lib\\site-packages\\joblib\\parallel.py\u001b[0m in \u001b[0;36m<listcomp>\u001b[1;34m(.0)\u001b[0m\n\u001b[0;32m    286\u001b[0m         \u001b[1;31m# change the default number of processes to -1\u001b[0m\u001b[1;33m\u001b[0m\u001b[1;33m\u001b[0m\u001b[0m\n\u001b[0;32m    287\u001b[0m         \u001b[1;32mwith\u001b[0m \u001b[0mparallel_backend\u001b[0m\u001b[1;33m(\u001b[0m\u001b[0mself\u001b[0m\u001b[1;33m.\u001b[0m\u001b[0m_backend\u001b[0m\u001b[1;33m,\u001b[0m \u001b[0mn_jobs\u001b[0m\u001b[1;33m=\u001b[0m\u001b[0mself\u001b[0m\u001b[1;33m.\u001b[0m\u001b[0m_n_jobs\u001b[0m\u001b[1;33m)\u001b[0m\u001b[1;33m:\u001b[0m\u001b[1;33m\u001b[0m\u001b[1;33m\u001b[0m\u001b[0m\n\u001b[1;32m--> 288\u001b[1;33m             return [func(*args, **kwargs)\n\u001b[0m\u001b[0;32m    289\u001b[0m                     for func, args, kwargs in self.items]\n\u001b[0;32m    290\u001b[0m \u001b[1;33m\u001b[0m\u001b[0m\n",
      "\u001b[1;32m~\\anaconda3\\lib\\site-packages\\sklearn\\utils\\fixes.py\u001b[0m in \u001b[0;36m__call__\u001b[1;34m(self, *args, **kwargs)\u001b[0m\n\u001b[0;32m    214\u001b[0m     \u001b[1;32mdef\u001b[0m \u001b[0m__call__\u001b[0m\u001b[1;33m(\u001b[0m\u001b[0mself\u001b[0m\u001b[1;33m,\u001b[0m \u001b[1;33m*\u001b[0m\u001b[0margs\u001b[0m\u001b[1;33m,\u001b[0m \u001b[1;33m**\u001b[0m\u001b[0mkwargs\u001b[0m\u001b[1;33m)\u001b[0m\u001b[1;33m:\u001b[0m\u001b[1;33m\u001b[0m\u001b[1;33m\u001b[0m\u001b[0m\n\u001b[0;32m    215\u001b[0m         \u001b[1;32mwith\u001b[0m \u001b[0mconfig_context\u001b[0m\u001b[1;33m(\u001b[0m\u001b[1;33m**\u001b[0m\u001b[0mself\u001b[0m\u001b[1;33m.\u001b[0m\u001b[0mconfig\u001b[0m\u001b[1;33m)\u001b[0m\u001b[1;33m:\u001b[0m\u001b[1;33m\u001b[0m\u001b[1;33m\u001b[0m\u001b[0m\n\u001b[1;32m--> 216\u001b[1;33m             \u001b[1;32mreturn\u001b[0m \u001b[0mself\u001b[0m\u001b[1;33m.\u001b[0m\u001b[0mfunction\u001b[0m\u001b[1;33m(\u001b[0m\u001b[1;33m*\u001b[0m\u001b[0margs\u001b[0m\u001b[1;33m,\u001b[0m \u001b[1;33m**\u001b[0m\u001b[0mkwargs\u001b[0m\u001b[1;33m)\u001b[0m\u001b[1;33m\u001b[0m\u001b[1;33m\u001b[0m\u001b[0m\n\u001b[0m\u001b[0;32m    217\u001b[0m \u001b[1;33m\u001b[0m\u001b[0m\n\u001b[0;32m    218\u001b[0m \u001b[1;33m\u001b[0m\u001b[0m\n",
      "\u001b[1;32m~\\anaconda3\\lib\\site-packages\\sklearn\\model_selection\\_validation.py\u001b[0m in \u001b[0;36m_fit_and_score\u001b[1;34m(estimator, X, y, scorer, train, test, verbose, parameters, fit_params, return_train_score, return_parameters, return_n_test_samples, return_times, return_estimator, split_progress, candidate_progress, error_score)\u001b[0m\n\u001b[0;32m    678\u001b[0m             \u001b[0mestimator\u001b[0m\u001b[1;33m.\u001b[0m\u001b[0mfit\u001b[0m\u001b[1;33m(\u001b[0m\u001b[0mX_train\u001b[0m\u001b[1;33m,\u001b[0m \u001b[1;33m**\u001b[0m\u001b[0mfit_params\u001b[0m\u001b[1;33m)\u001b[0m\u001b[1;33m\u001b[0m\u001b[1;33m\u001b[0m\u001b[0m\n\u001b[0;32m    679\u001b[0m         \u001b[1;32melse\u001b[0m\u001b[1;33m:\u001b[0m\u001b[1;33m\u001b[0m\u001b[1;33m\u001b[0m\u001b[0m\n\u001b[1;32m--> 680\u001b[1;33m             \u001b[0mestimator\u001b[0m\u001b[1;33m.\u001b[0m\u001b[0mfit\u001b[0m\u001b[1;33m(\u001b[0m\u001b[0mX_train\u001b[0m\u001b[1;33m,\u001b[0m \u001b[0my_train\u001b[0m\u001b[1;33m,\u001b[0m \u001b[1;33m**\u001b[0m\u001b[0mfit_params\u001b[0m\u001b[1;33m)\u001b[0m\u001b[1;33m\u001b[0m\u001b[1;33m\u001b[0m\u001b[0m\n\u001b[0m\u001b[0;32m    681\u001b[0m \u001b[1;33m\u001b[0m\u001b[0m\n\u001b[0;32m    682\u001b[0m     \u001b[1;32mexcept\u001b[0m \u001b[0mException\u001b[0m\u001b[1;33m:\u001b[0m\u001b[1;33m\u001b[0m\u001b[1;33m\u001b[0m\u001b[0m\n",
      "\u001b[1;32m~\\anaconda3\\lib\\site-packages\\sklearn\\ensemble\\_forest.py\u001b[0m in \u001b[0;36mfit\u001b[1;34m(self, X, y, sample_weight)\u001b[0m\n\u001b[0;32m    448\u001b[0m             \u001b[1;31m# parallel_backend contexts set at a higher level,\u001b[0m\u001b[1;33m\u001b[0m\u001b[1;33m\u001b[0m\u001b[0m\n\u001b[0;32m    449\u001b[0m             \u001b[1;31m# since correctness does not rely on using threads.\u001b[0m\u001b[1;33m\u001b[0m\u001b[1;33m\u001b[0m\u001b[0m\n\u001b[1;32m--> 450\u001b[1;33m             trees = Parallel(\n\u001b[0m\u001b[0;32m    451\u001b[0m                 \u001b[0mn_jobs\u001b[0m\u001b[1;33m=\u001b[0m\u001b[0mself\u001b[0m\u001b[1;33m.\u001b[0m\u001b[0mn_jobs\u001b[0m\u001b[1;33m,\u001b[0m\u001b[1;33m\u001b[0m\u001b[1;33m\u001b[0m\u001b[0m\n\u001b[0;32m    452\u001b[0m                 \u001b[0mverbose\u001b[0m\u001b[1;33m=\u001b[0m\u001b[0mself\u001b[0m\u001b[1;33m.\u001b[0m\u001b[0mverbose\u001b[0m\u001b[1;33m,\u001b[0m\u001b[1;33m\u001b[0m\u001b[1;33m\u001b[0m\u001b[0m\n",
      "\u001b[1;32m~\\anaconda3\\lib\\site-packages\\joblib\\parallel.py\u001b[0m in \u001b[0;36m__call__\u001b[1;34m(self, iterable)\u001b[0m\n\u001b[0;32m   1086\u001b[0m                 \u001b[0mself\u001b[0m\u001b[1;33m.\u001b[0m\u001b[0m_iterating\u001b[0m \u001b[1;33m=\u001b[0m \u001b[0mself\u001b[0m\u001b[1;33m.\u001b[0m\u001b[0m_original_iterator\u001b[0m \u001b[1;32mis\u001b[0m \u001b[1;32mnot\u001b[0m \u001b[1;32mNone\u001b[0m\u001b[1;33m\u001b[0m\u001b[1;33m\u001b[0m\u001b[0m\n\u001b[0;32m   1087\u001b[0m \u001b[1;33m\u001b[0m\u001b[0m\n\u001b[1;32m-> 1088\u001b[1;33m             \u001b[1;32mwhile\u001b[0m \u001b[0mself\u001b[0m\u001b[1;33m.\u001b[0m\u001b[0mdispatch_one_batch\u001b[0m\u001b[1;33m(\u001b[0m\u001b[0miterator\u001b[0m\u001b[1;33m)\u001b[0m\u001b[1;33m:\u001b[0m\u001b[1;33m\u001b[0m\u001b[1;33m\u001b[0m\u001b[0m\n\u001b[0m\u001b[0;32m   1089\u001b[0m                 \u001b[1;32mpass\u001b[0m\u001b[1;33m\u001b[0m\u001b[1;33m\u001b[0m\u001b[0m\n\u001b[0;32m   1090\u001b[0m \u001b[1;33m\u001b[0m\u001b[0m\n",
      "\u001b[1;32m~\\anaconda3\\lib\\site-packages\\joblib\\parallel.py\u001b[0m in \u001b[0;36mdispatch_one_batch\u001b[1;34m(self, iterator)\u001b[0m\n\u001b[0;32m    899\u001b[0m                 \u001b[1;32mreturn\u001b[0m \u001b[1;32mFalse\u001b[0m\u001b[1;33m\u001b[0m\u001b[1;33m\u001b[0m\u001b[0m\n\u001b[0;32m    900\u001b[0m             \u001b[1;32melse\u001b[0m\u001b[1;33m:\u001b[0m\u001b[1;33m\u001b[0m\u001b[1;33m\u001b[0m\u001b[0m\n\u001b[1;32m--> 901\u001b[1;33m                 \u001b[0mself\u001b[0m\u001b[1;33m.\u001b[0m\u001b[0m_dispatch\u001b[0m\u001b[1;33m(\u001b[0m\u001b[0mtasks\u001b[0m\u001b[1;33m)\u001b[0m\u001b[1;33m\u001b[0m\u001b[1;33m\u001b[0m\u001b[0m\n\u001b[0m\u001b[0;32m    902\u001b[0m                 \u001b[1;32mreturn\u001b[0m \u001b[1;32mTrue\u001b[0m\u001b[1;33m\u001b[0m\u001b[1;33m\u001b[0m\u001b[0m\n\u001b[0;32m    903\u001b[0m \u001b[1;33m\u001b[0m\u001b[0m\n",
      "\u001b[1;32m~\\anaconda3\\lib\\site-packages\\joblib\\parallel.py\u001b[0m in \u001b[0;36m_dispatch\u001b[1;34m(self, batch)\u001b[0m\n\u001b[0;32m    817\u001b[0m         \u001b[1;32mwith\u001b[0m \u001b[0mself\u001b[0m\u001b[1;33m.\u001b[0m\u001b[0m_lock\u001b[0m\u001b[1;33m:\u001b[0m\u001b[1;33m\u001b[0m\u001b[1;33m\u001b[0m\u001b[0m\n\u001b[0;32m    818\u001b[0m             \u001b[0mjob_idx\u001b[0m \u001b[1;33m=\u001b[0m \u001b[0mlen\u001b[0m\u001b[1;33m(\u001b[0m\u001b[0mself\u001b[0m\u001b[1;33m.\u001b[0m\u001b[0m_jobs\u001b[0m\u001b[1;33m)\u001b[0m\u001b[1;33m\u001b[0m\u001b[1;33m\u001b[0m\u001b[0m\n\u001b[1;32m--> 819\u001b[1;33m             \u001b[0mjob\u001b[0m \u001b[1;33m=\u001b[0m \u001b[0mself\u001b[0m\u001b[1;33m.\u001b[0m\u001b[0m_backend\u001b[0m\u001b[1;33m.\u001b[0m\u001b[0mapply_async\u001b[0m\u001b[1;33m(\u001b[0m\u001b[0mbatch\u001b[0m\u001b[1;33m,\u001b[0m \u001b[0mcallback\u001b[0m\u001b[1;33m=\u001b[0m\u001b[0mcb\u001b[0m\u001b[1;33m)\u001b[0m\u001b[1;33m\u001b[0m\u001b[1;33m\u001b[0m\u001b[0m\n\u001b[0m\u001b[0;32m    820\u001b[0m             \u001b[1;31m# A job can complete so quickly than its callback is\u001b[0m\u001b[1;33m\u001b[0m\u001b[1;33m\u001b[0m\u001b[0m\n\u001b[0;32m    821\u001b[0m             \u001b[1;31m# called before we get here, causing self._jobs to\u001b[0m\u001b[1;33m\u001b[0m\u001b[1;33m\u001b[0m\u001b[0m\n",
      "\u001b[1;32m~\\anaconda3\\lib\\site-packages\\joblib\\_parallel_backends.py\u001b[0m in \u001b[0;36mapply_async\u001b[1;34m(self, func, callback)\u001b[0m\n\u001b[0;32m    206\u001b[0m     \u001b[1;32mdef\u001b[0m \u001b[0mapply_async\u001b[0m\u001b[1;33m(\u001b[0m\u001b[0mself\u001b[0m\u001b[1;33m,\u001b[0m \u001b[0mfunc\u001b[0m\u001b[1;33m,\u001b[0m \u001b[0mcallback\u001b[0m\u001b[1;33m=\u001b[0m\u001b[1;32mNone\u001b[0m\u001b[1;33m)\u001b[0m\u001b[1;33m:\u001b[0m\u001b[1;33m\u001b[0m\u001b[1;33m\u001b[0m\u001b[0m\n\u001b[0;32m    207\u001b[0m         \u001b[1;34m\"\"\"Schedule a func to be run\"\"\"\u001b[0m\u001b[1;33m\u001b[0m\u001b[1;33m\u001b[0m\u001b[0m\n\u001b[1;32m--> 208\u001b[1;33m         \u001b[0mresult\u001b[0m \u001b[1;33m=\u001b[0m \u001b[0mImmediateResult\u001b[0m\u001b[1;33m(\u001b[0m\u001b[0mfunc\u001b[0m\u001b[1;33m)\u001b[0m\u001b[1;33m\u001b[0m\u001b[1;33m\u001b[0m\u001b[0m\n\u001b[0m\u001b[0;32m    209\u001b[0m         \u001b[1;32mif\u001b[0m \u001b[0mcallback\u001b[0m\u001b[1;33m:\u001b[0m\u001b[1;33m\u001b[0m\u001b[1;33m\u001b[0m\u001b[0m\n\u001b[0;32m    210\u001b[0m             \u001b[0mcallback\u001b[0m\u001b[1;33m(\u001b[0m\u001b[0mresult\u001b[0m\u001b[1;33m)\u001b[0m\u001b[1;33m\u001b[0m\u001b[1;33m\u001b[0m\u001b[0m\n",
      "\u001b[1;32m~\\anaconda3\\lib\\site-packages\\joblib\\_parallel_backends.py\u001b[0m in \u001b[0;36m__init__\u001b[1;34m(self, batch)\u001b[0m\n\u001b[0;32m    595\u001b[0m         \u001b[1;31m# Don't delay the application, to avoid keeping the input\u001b[0m\u001b[1;33m\u001b[0m\u001b[1;33m\u001b[0m\u001b[0m\n\u001b[0;32m    596\u001b[0m         \u001b[1;31m# arguments in memory\u001b[0m\u001b[1;33m\u001b[0m\u001b[1;33m\u001b[0m\u001b[0m\n\u001b[1;32m--> 597\u001b[1;33m         \u001b[0mself\u001b[0m\u001b[1;33m.\u001b[0m\u001b[0mresults\u001b[0m \u001b[1;33m=\u001b[0m \u001b[0mbatch\u001b[0m\u001b[1;33m(\u001b[0m\u001b[1;33m)\u001b[0m\u001b[1;33m\u001b[0m\u001b[1;33m\u001b[0m\u001b[0m\n\u001b[0m\u001b[0;32m    598\u001b[0m \u001b[1;33m\u001b[0m\u001b[0m\n\u001b[0;32m    599\u001b[0m     \u001b[1;32mdef\u001b[0m \u001b[0mget\u001b[0m\u001b[1;33m(\u001b[0m\u001b[0mself\u001b[0m\u001b[1;33m)\u001b[0m\u001b[1;33m:\u001b[0m\u001b[1;33m\u001b[0m\u001b[1;33m\u001b[0m\u001b[0m\n",
      "\u001b[1;32m~\\anaconda3\\lib\\site-packages\\joblib\\parallel.py\u001b[0m in \u001b[0;36m__call__\u001b[1;34m(self)\u001b[0m\n\u001b[0;32m    286\u001b[0m         \u001b[1;31m# change the default number of processes to -1\u001b[0m\u001b[1;33m\u001b[0m\u001b[1;33m\u001b[0m\u001b[0m\n\u001b[0;32m    287\u001b[0m         \u001b[1;32mwith\u001b[0m \u001b[0mparallel_backend\u001b[0m\u001b[1;33m(\u001b[0m\u001b[0mself\u001b[0m\u001b[1;33m.\u001b[0m\u001b[0m_backend\u001b[0m\u001b[1;33m,\u001b[0m \u001b[0mn_jobs\u001b[0m\u001b[1;33m=\u001b[0m\u001b[0mself\u001b[0m\u001b[1;33m.\u001b[0m\u001b[0m_n_jobs\u001b[0m\u001b[1;33m)\u001b[0m\u001b[1;33m:\u001b[0m\u001b[1;33m\u001b[0m\u001b[1;33m\u001b[0m\u001b[0m\n\u001b[1;32m--> 288\u001b[1;33m             return [func(*args, **kwargs)\n\u001b[0m\u001b[0;32m    289\u001b[0m                     for func, args, kwargs in self.items]\n\u001b[0;32m    290\u001b[0m \u001b[1;33m\u001b[0m\u001b[0m\n",
      "\u001b[1;32m~\\anaconda3\\lib\\site-packages\\joblib\\parallel.py\u001b[0m in \u001b[0;36m<listcomp>\u001b[1;34m(.0)\u001b[0m\n\u001b[0;32m    286\u001b[0m         \u001b[1;31m# change the default number of processes to -1\u001b[0m\u001b[1;33m\u001b[0m\u001b[1;33m\u001b[0m\u001b[0m\n\u001b[0;32m    287\u001b[0m         \u001b[1;32mwith\u001b[0m \u001b[0mparallel_backend\u001b[0m\u001b[1;33m(\u001b[0m\u001b[0mself\u001b[0m\u001b[1;33m.\u001b[0m\u001b[0m_backend\u001b[0m\u001b[1;33m,\u001b[0m \u001b[0mn_jobs\u001b[0m\u001b[1;33m=\u001b[0m\u001b[0mself\u001b[0m\u001b[1;33m.\u001b[0m\u001b[0m_n_jobs\u001b[0m\u001b[1;33m)\u001b[0m\u001b[1;33m:\u001b[0m\u001b[1;33m\u001b[0m\u001b[1;33m\u001b[0m\u001b[0m\n\u001b[1;32m--> 288\u001b[1;33m             return [func(*args, **kwargs)\n\u001b[0m\u001b[0;32m    289\u001b[0m                     for func, args, kwargs in self.items]\n\u001b[0;32m    290\u001b[0m \u001b[1;33m\u001b[0m\u001b[0m\n",
      "\u001b[1;32m~\\anaconda3\\lib\\site-packages\\sklearn\\utils\\fixes.py\u001b[0m in \u001b[0;36m__call__\u001b[1;34m(self, *args, **kwargs)\u001b[0m\n\u001b[0;32m    214\u001b[0m     \u001b[1;32mdef\u001b[0m \u001b[0m__call__\u001b[0m\u001b[1;33m(\u001b[0m\u001b[0mself\u001b[0m\u001b[1;33m,\u001b[0m \u001b[1;33m*\u001b[0m\u001b[0margs\u001b[0m\u001b[1;33m,\u001b[0m \u001b[1;33m**\u001b[0m\u001b[0mkwargs\u001b[0m\u001b[1;33m)\u001b[0m\u001b[1;33m:\u001b[0m\u001b[1;33m\u001b[0m\u001b[1;33m\u001b[0m\u001b[0m\n\u001b[0;32m    215\u001b[0m         \u001b[1;32mwith\u001b[0m \u001b[0mconfig_context\u001b[0m\u001b[1;33m(\u001b[0m\u001b[1;33m**\u001b[0m\u001b[0mself\u001b[0m\u001b[1;33m.\u001b[0m\u001b[0mconfig\u001b[0m\u001b[1;33m)\u001b[0m\u001b[1;33m:\u001b[0m\u001b[1;33m\u001b[0m\u001b[1;33m\u001b[0m\u001b[0m\n\u001b[1;32m--> 216\u001b[1;33m             \u001b[1;32mreturn\u001b[0m \u001b[0mself\u001b[0m\u001b[1;33m.\u001b[0m\u001b[0mfunction\u001b[0m\u001b[1;33m(\u001b[0m\u001b[1;33m*\u001b[0m\u001b[0margs\u001b[0m\u001b[1;33m,\u001b[0m \u001b[1;33m**\u001b[0m\u001b[0mkwargs\u001b[0m\u001b[1;33m)\u001b[0m\u001b[1;33m\u001b[0m\u001b[1;33m\u001b[0m\u001b[0m\n\u001b[0m\u001b[0;32m    217\u001b[0m \u001b[1;33m\u001b[0m\u001b[0m\n\u001b[0;32m    218\u001b[0m \u001b[1;33m\u001b[0m\u001b[0m\n",
      "\u001b[1;32m~\\anaconda3\\lib\\site-packages\\sklearn\\ensemble\\_forest.py\u001b[0m in \u001b[0;36m_parallel_build_trees\u001b[1;34m(tree, forest, X, y, sample_weight, tree_idx, n_trees, verbose, class_weight, n_samples_bootstrap)\u001b[0m\n\u001b[0;32m    183\u001b[0m             \u001b[0mcurr_sample_weight\u001b[0m \u001b[1;33m*=\u001b[0m \u001b[0mcompute_sample_weight\u001b[0m\u001b[1;33m(\u001b[0m\u001b[1;34m\"balanced\"\u001b[0m\u001b[1;33m,\u001b[0m \u001b[0my\u001b[0m\u001b[1;33m,\u001b[0m \u001b[0mindices\u001b[0m\u001b[1;33m=\u001b[0m\u001b[0mindices\u001b[0m\u001b[1;33m)\u001b[0m\u001b[1;33m\u001b[0m\u001b[1;33m\u001b[0m\u001b[0m\n\u001b[0;32m    184\u001b[0m \u001b[1;33m\u001b[0m\u001b[0m\n\u001b[1;32m--> 185\u001b[1;33m         \u001b[0mtree\u001b[0m\u001b[1;33m.\u001b[0m\u001b[0mfit\u001b[0m\u001b[1;33m(\u001b[0m\u001b[0mX\u001b[0m\u001b[1;33m,\u001b[0m \u001b[0my\u001b[0m\u001b[1;33m,\u001b[0m \u001b[0msample_weight\u001b[0m\u001b[1;33m=\u001b[0m\u001b[0mcurr_sample_weight\u001b[0m\u001b[1;33m,\u001b[0m \u001b[0mcheck_input\u001b[0m\u001b[1;33m=\u001b[0m\u001b[1;32mFalse\u001b[0m\u001b[1;33m)\u001b[0m\u001b[1;33m\u001b[0m\u001b[1;33m\u001b[0m\u001b[0m\n\u001b[0m\u001b[0;32m    186\u001b[0m     \u001b[1;32melse\u001b[0m\u001b[1;33m:\u001b[0m\u001b[1;33m\u001b[0m\u001b[1;33m\u001b[0m\u001b[0m\n\u001b[0;32m    187\u001b[0m         \u001b[0mtree\u001b[0m\u001b[1;33m.\u001b[0m\u001b[0mfit\u001b[0m\u001b[1;33m(\u001b[0m\u001b[0mX\u001b[0m\u001b[1;33m,\u001b[0m \u001b[0my\u001b[0m\u001b[1;33m,\u001b[0m \u001b[0msample_weight\u001b[0m\u001b[1;33m=\u001b[0m\u001b[0msample_weight\u001b[0m\u001b[1;33m,\u001b[0m \u001b[0mcheck_input\u001b[0m\u001b[1;33m=\u001b[0m\u001b[1;32mFalse\u001b[0m\u001b[1;33m)\u001b[0m\u001b[1;33m\u001b[0m\u001b[1;33m\u001b[0m\u001b[0m\n",
      "\u001b[1;32m~\\anaconda3\\lib\\site-packages\\sklearn\\tree\\_classes.py\u001b[0m in \u001b[0;36mfit\u001b[1;34m(self, X, y, sample_weight, check_input, X_idx_sorted)\u001b[0m\n\u001b[0;32m    935\u001b[0m         \"\"\"\n\u001b[0;32m    936\u001b[0m \u001b[1;33m\u001b[0m\u001b[0m\n\u001b[1;32m--> 937\u001b[1;33m         super().fit(\n\u001b[0m\u001b[0;32m    938\u001b[0m             \u001b[0mX\u001b[0m\u001b[1;33m,\u001b[0m\u001b[1;33m\u001b[0m\u001b[1;33m\u001b[0m\u001b[0m\n\u001b[0;32m    939\u001b[0m             \u001b[0my\u001b[0m\u001b[1;33m,\u001b[0m\u001b[1;33m\u001b[0m\u001b[1;33m\u001b[0m\u001b[0m\n",
      "\u001b[1;32m~\\anaconda3\\lib\\site-packages\\sklearn\\tree\\_classes.py\u001b[0m in \u001b[0;36mfit\u001b[1;34m(self, X, y, sample_weight, check_input, X_idx_sorted)\u001b[0m\n\u001b[0;32m    418\u001b[0m             )\n\u001b[0;32m    419\u001b[0m \u001b[1;33m\u001b[0m\u001b[0m\n\u001b[1;32m--> 420\u001b[1;33m         \u001b[0mbuilder\u001b[0m\u001b[1;33m.\u001b[0m\u001b[0mbuild\u001b[0m\u001b[1;33m(\u001b[0m\u001b[0mself\u001b[0m\u001b[1;33m.\u001b[0m\u001b[0mtree_\u001b[0m\u001b[1;33m,\u001b[0m \u001b[0mX\u001b[0m\u001b[1;33m,\u001b[0m \u001b[0my\u001b[0m\u001b[1;33m,\u001b[0m \u001b[0msample_weight\u001b[0m\u001b[1;33m)\u001b[0m\u001b[1;33m\u001b[0m\u001b[1;33m\u001b[0m\u001b[0m\n\u001b[0m\u001b[0;32m    421\u001b[0m \u001b[1;33m\u001b[0m\u001b[0m\n\u001b[0;32m    422\u001b[0m         \u001b[1;32mif\u001b[0m \u001b[0mself\u001b[0m\u001b[1;33m.\u001b[0m\u001b[0mn_outputs_\u001b[0m \u001b[1;33m==\u001b[0m \u001b[1;36m1\u001b[0m \u001b[1;32mand\u001b[0m \u001b[0mis_classifier\u001b[0m\u001b[1;33m(\u001b[0m\u001b[0mself\u001b[0m\u001b[1;33m)\u001b[0m\u001b[1;33m:\u001b[0m\u001b[1;33m\u001b[0m\u001b[1;33m\u001b[0m\u001b[0m\n",
      "\u001b[1;31mKeyboardInterrupt\u001b[0m: "
     ]
    }
   ],
   "source": [
    "grid_cv.fit(x_train,y_train)"
   ]
  },
  {
   "cell_type": "code",
   "execution_count": 158,
   "id": "03005a52",
   "metadata": {},
   "outputs": [
    {
     "data": {
      "text/plain": [
       "RandomForestClassifier(max_depth=8, min_samples_leaf=3, min_samples_split=10,\n",
       "                       n_estimators=80)"
      ]
     },
     "execution_count": 158,
     "metadata": {},
     "output_type": "execute_result"
    }
   ],
   "source": [
    "grid_cv.best_estimator_"
   ]
  },
  {
   "cell_type": "code",
   "execution_count": 159,
   "id": "44d5a172",
   "metadata": {},
   "outputs": [],
   "source": [
    "rf_model=RandomForestClassifier(max_depth=8, min_samples_leaf=3, min_samples_split=10,\n",
    "                       n_estimators=80,random_state=42).fit(x_train,y_train)\n",
    "y_pred=rf_model.predict(x_test)"
   ]
  },
  {
   "cell_type": "code",
   "execution_count": null,
   "id": "32995445",
   "metadata": {},
   "outputs": [],
   "source": []
  },
  {
   "cell_type": "code",
   "execution_count": 133,
   "id": "db5ed740",
   "metadata": {},
   "outputs": [
    {
     "data": {
      "text/plain": [
       "array([0.91818182, 0.82568807, 0.8440367 , 0.86238532, 0.89908257])"
      ]
     },
     "execution_count": 133,
     "metadata": {},
     "output_type": "execute_result"
    }
   ],
   "source": [
    "dt_score=cross_val_score(dt_model,x_train,y_train,scoring=\"accuracy\",cv=kf)\n",
    "dt_score"
   ]
  },
  {
   "cell_type": "code",
   "execution_count": 134,
   "id": "21b72023",
   "metadata": {},
   "outputs": [
    {
     "data": {
      "text/plain": [
       "array([0.22727273, 0.27272727, 0.27272727, 0.22727273, 0.22727273])"
      ]
     },
     "execution_count": 134,
     "metadata": {},
     "output_type": "execute_result"
    }
   ],
   "source": [
    "dt_score=cross_val_score(dt_model,x_test,y_test,scoring=\"accuracy\",cv=kf)\n",
    "dt_score"
   ]
  },
  {
   "cell_type": "code",
   "execution_count": 135,
   "id": "1a2651fb",
   "metadata": {},
   "outputs": [
    {
     "data": {
      "text/plain": [
       "0.9157509157509157"
      ]
     },
     "execution_count": 135,
     "metadata": {},
     "output_type": "execute_result"
    }
   ],
   "source": [
    "dt_model.score(x_train,y_train)"
   ]
  },
  {
   "cell_type": "code",
   "execution_count": 136,
   "id": "8de1f425",
   "metadata": {},
   "outputs": [
    {
     "data": {
      "text/plain": [
       "0.32727272727272727"
      ]
     },
     "execution_count": 136,
     "metadata": {},
     "output_type": "execute_result"
    }
   ],
   "source": [
    "dt_model.score(x_test,y_test)"
   ]
  },
  {
   "cell_type": "code",
   "execution_count": null,
   "id": "c3e1934a",
   "metadata": {},
   "outputs": [],
   "source": []
  },
  {
   "cell_type": "markdown",
   "id": "67b6cf12",
   "metadata": {},
   "source": [
    "## Adaboost classifier"
   ]
  },
  {
   "cell_type": "code",
   "execution_count": 127,
   "id": "ec494cdb",
   "metadata": {},
   "outputs": [],
   "source": [
    "param_grid={\"n_estimators\": np.arange(10,101,10),\n",
    "           \"learning_rate\":np.arange(0.05,1,0.05)}"
   ]
  },
  {
   "cell_type": "code",
   "execution_count": 128,
   "id": "809ed01f",
   "metadata": {},
   "outputs": [],
   "source": [
    "ada=AdaBoostClassifier()"
   ]
  },
  {
   "cell_type": "code",
   "execution_count": 129,
   "id": "9ff53a0c",
   "metadata": {},
   "outputs": [],
   "source": [
    "grid_cv=GridSearchCV(ada,param_grid,scoring=\"accuracy\",cv=kf)"
   ]
  },
  {
   "cell_type": "code",
   "execution_count": 130,
   "id": "fe0154ed",
   "metadata": {},
   "outputs": [
    {
     "data": {
      "text/plain": [
       "GridSearchCV(cv=KFold(n_splits=5, random_state=42, shuffle=True),\n",
       "             estimator=AdaBoostClassifier(),\n",
       "             param_grid={'learning_rate': array([0.05, 0.1 , 0.15, 0.2 , 0.25, 0.3 , 0.35, 0.4 , 0.45, 0.5 , 0.55,\n",
       "       0.6 , 0.65, 0.7 , 0.75, 0.8 , 0.85, 0.9 , 0.95]),\n",
       "                         'n_estimators': array([ 10,  20,  30,  40,  50,  60,  70,  80,  90, 100])},\n",
       "             scoring='accuracy')"
      ]
     },
     "execution_count": 130,
     "metadata": {},
     "output_type": "execute_result"
    }
   ],
   "source": [
    "grid_cv.fit(x_train,y_train)"
   ]
  },
  {
   "cell_type": "code",
   "execution_count": 131,
   "id": "c6e6e72a",
   "metadata": {},
   "outputs": [
    {
     "data": {
      "text/plain": [
       "AdaBoostClassifier(learning_rate=0.7000000000000001, n_estimators=80)"
      ]
     },
     "execution_count": 131,
     "metadata": {},
     "output_type": "execute_result"
    }
   ],
   "source": [
    "grid_cv.best_estimator_"
   ]
  },
  {
   "cell_type": "code",
   "execution_count": 132,
   "id": "fe04a45c",
   "metadata": {},
   "outputs": [],
   "source": [
    "ada_model=AdaBoostClassifier(learning_rate=0.7000000000000001, n_estimators=80,random_state=42).fit(x_train,y_train)\n",
    "y_pred=ada_model.predict(x_test)"
   ]
  },
  {
   "cell_type": "code",
   "execution_count": 133,
   "id": "f672f9a5",
   "metadata": {},
   "outputs": [
    {
     "name": "stdout",
     "output_type": "stream",
     "text": [
      "Model accuracy score on training data : 0.8832951945080092\n",
      "Model accuracy score on test data : 0.8623853211009175\n",
      "\n",
      "Model precision_score : 0.8680057388809183\n",
      "Model recall_score : 0.8662036649652749\n",
      "Model f1_score: 0.865552203787498\n",
      "\n",
      "\n"
     ]
    }
   ],
   "source": [
    "metrics_print1(ada_model)"
   ]
  },
  {
   "cell_type": "markdown",
   "id": "07178f5f",
   "metadata": {},
   "source": [
    "## K-Nearest Neighbors"
   ]
  },
  {
   "cell_type": "code",
   "execution_count": 138,
   "id": "1c95543b",
   "metadata": {},
   "outputs": [],
   "source": [
    "accuracy_scores=[]\n",
    "for k in range(5,30):\n",
    "    knn_score=cross_val_score(KNeighborsClassifier(k),x_train,y_train,scoring=\"accuracy\",cv=kf)\n",
    "    accuracy_scores.append(np.mean(knn_score))"
   ]
  },
  {
   "cell_type": "code",
   "execution_count": 140,
   "id": "034cdcb6",
   "metadata": {},
   "outputs": [
    {
     "name": "stdout",
     "output_type": "stream",
     "text": [
      "number of neighbors: 5 : 0.8443\n",
      "number of neighbors: 6 : 0.8215\n",
      "number of neighbors: 7 : 0.8329\n",
      "number of neighbors: 8 : 0.8306\n",
      "number of neighbors: 9 : 0.8398\n",
      "number of neighbors: 10 : 0.8215\n",
      "number of neighbors: 11 : 0.8444\n",
      "number of neighbors: 12 : 0.8261\n",
      "number of neighbors: 13 : 0.8421\n",
      "number of neighbors: 14 : 0.8376\n",
      "number of neighbors: 15 : 0.8536\n",
      "number of neighbors: 16 : 0.8399\n",
      "number of neighbors: 17 : 0.8445\n",
      "number of neighbors: 18 : 0.8216\n",
      "number of neighbors: 19 : 0.8375\n",
      "number of neighbors: 20 : 0.8215\n",
      "number of neighbors: 21 : 0.8398\n",
      "number of neighbors: 22 : 0.8398\n",
      "number of neighbors: 23 : 0.8444\n",
      "number of neighbors: 24 : 0.8467\n",
      "number of neighbors: 25 : 0.849\n",
      "number of neighbors: 26 : 0.8398\n",
      "number of neighbors: 27 : 0.8398\n",
      "number of neighbors: 28 : 0.833\n",
      "number of neighbors: 29 : 0.8353\n"
     ]
    }
   ],
   "source": [
    "for k in range(5,30):\n",
    "    print(\"number of neighbors:\",k,\":\",round(accuracy_scores[k-5],4))"
   ]
  },
  {
   "cell_type": "code",
   "execution_count": 141,
   "id": "a52c6751",
   "metadata": {},
   "outputs": [
    {
     "data": {
      "image/png": "[encoded data removed]",
      "text/plain": [
       "<Figure size 600x300 with 1 Axes>"
      ]
     },
     "metadata": {},
     "output_type": "display_data"
    }
   ],
   "source": [
    "plt.figure(figsize=(6,3))\n",
    "plt.plot(range(5,30),accuracy_scores,marker=\"o\")\n",
    "plt.ylabel(\"accuracy scores\")\n",
    "plt.xlabel(\"k_values\")\n",
    "plt.title(\"accuracy scores in different k values\")\n",
    "plt.xticks(range(5,30,5))\n",
    "plt.grid()\n",
    "plt.show()"
   ]
  },
  {
   "cell_type": "code",
   "execution_count": 152,
   "id": "ec725b62",
   "metadata": {},
   "outputs": [],
   "source": [
    "k=15\n",
    "knn_model=KNeighborsClassifier(k).fit(x_train,y_train)\n",
    "y_pred=knn_model.predict(x_test)"
   ]
  },
  {
   "cell_type": "code",
   "execution_count": 153,
   "id": "3796658a",
   "metadata": {},
   "outputs": [
    {
     "name": "stdout",
     "output_type": "stream",
     "text": [
      "Model accuracy score on training data : 0.8810068649885584\n",
      "Model accuracy score on test data : 0.908256880733945\n",
      "\n",
      "Model precision_score : 0.914141414141414\n",
      "Model recall_score : 0.9106211474632527\n",
      "Model f1_score: 0.9107142857142857\n",
      "\n",
      "\n"
     ]
    }
   ],
   "source": [
    "metrics_print1(knn_model)"
   ]
  },
  {
   "cell_type": "markdown",
   "id": "34d6df2b",
   "metadata": {},
   "source": [
    "## Stacked Classifier"
   ]
  },
  {
   "cell_type": "code",
   "execution_count": 161,
   "id": "d05ed9b3",
   "metadata": {},
   "outputs": [],
   "source": [
    "level1=[]\n",
    "level1.append((\"lr\",LogisticRegression()))\n",
    "level1.append((\"gss\",GaussianNB()))\n",
    "level1.append((\"dt\",DecisionTreeClassifier(max_depth=7, min_samples_leaf=10, min_samples_split=30)))\n",
    "level1.append((\"rf\",RandomForestClassifier(max_depth=8, min_samples_leaf=3, min_samples_split=10,\n",
    "                       n_estimators=80,random_state=42)))\n",
    "level1.append((\"ada\",AdaBoostClassifier(learning_rate=0.7000000000000001, n_estimators=80,random_state=42)))\n",
    "level1.append((\"knn\",KNeighborsClassifier(15)))\n",
    "level1.append((\"svm\",SVC()))\n",
    "\n",
    "level2=LogisticRegression()"
   ]
  },
  {
   "cell_type": "code",
   "execution_count": 162,
   "id": "bfb949b8",
   "metadata": {},
   "outputs": [],
   "source": [
    "stack_model=StackingClassifier(estimators=level1,final_estimator=level2,cv=kf).fit(x_train,y_train)\n",
    "y_pred=stack_model.predict(x_test)"
   ]
  },
  {
   "cell_type": "code",
   "execution_count": 163,
   "id": "9044874b",
   "metadata": {},
   "outputs": [
    {
     "name": "stdout",
     "output_type": "stream",
     "text": [
      "Model accuracy score on training data : 0.9427917620137299\n",
      "Model accuracy score on test data : 0.8990825688073395\n",
      "\n",
      "Model precision_score : 0.906734496124031\n",
      "Model recall_score : 0.9016121384542437\n",
      "Model f1_score: 0.9015924136697082\n",
      "\n",
      "\n"
     ]
    }
   ],
   "source": [
    "metrics_print1(stack_model)"
   ]
  },
  {
   "cell_type": "markdown",
   "id": "92075fff",
   "metadata": {},
   "source": [
    "## Best Model Selection"
   ]
  },
  {
   "cell_type": "code",
   "execution_count": 164,
   "id": "7b76a8b6",
   "metadata": {},
   "outputs": [],
   "source": [
    "model_list=[\"Logistic Regression\",\"Gaussian Model\",\"Decision Tree classifier\",\"Random Forest classifier\",\"Ada-boost classifier\",\"KNN classifier\",\"Stacked classifier\"]\n",
    "metric_list=[\"Models\",\"Accuracy(train)\",\"Accuracy(test)\",\"Precision\",\"Recall\",\"F1 score\"]"
   ]
  },
  {
   "cell_type": "code",
   "execution_count": 165,
   "id": "6353c112",
   "metadata": {},
   "outputs": [
    {
     "data": {
      "text/html": [
       "<div>\n",
       "<style scoped>\n",
       "    .dataframe tbody tr th:only-of-type {\n",
       "        vertical-align: middle;\n",
       "    }\n",
       "\n",
       "    .dataframe tbody tr th {\n",
       "        vertical-align: top;\n",
       "    }\n",
       "\n",
       "    .dataframe thead th {\n",
       "        text-align: right;\n",
       "    }\n",
       "</style>\n",
       "<table border=\"1\" class=\"dataframe\">\n",
       "  <thead>\n",
       "    <tr style=\"text-align: right;\">\n",
       "      <th></th>\n",
       "      <th>Models</th>\n",
       "      <th>Accuracy(train)</th>\n",
       "      <th>Accuracy(test)</th>\n",
       "      <th>Precision</th>\n",
       "      <th>Recall</th>\n",
       "      <th>F1 score</th>\n",
       "    </tr>\n",
       "  </thead>\n",
       "  <tbody>\n",
       "    <tr>\n",
       "      <th>0</th>\n",
       "      <td>Logistic Regression</td>\n",
       "      <td>0.850725</td>\n",
       "      <td>0.827807</td>\n",
       "      <td>0.827494</td>\n",
       "      <td>0.830879</td>\n",
       "      <td>0.826480</td>\n",
       "    </tr>\n",
       "    <tr>\n",
       "      <th>1</th>\n",
       "      <td>Gaussian Model</td>\n",
       "      <td>0.862638</td>\n",
       "      <td>0.844270</td>\n",
       "      <td>0.847769</td>\n",
       "      <td>0.844599</td>\n",
       "      <td>0.843987</td>\n",
       "    </tr>\n",
       "    <tr>\n",
       "      <th>2</th>\n",
       "      <td>Decision Tree classifier</td>\n",
       "      <td>0.922197</td>\n",
       "      <td>0.908257</td>\n",
       "      <td>0.913124</td>\n",
       "      <td>0.909826</td>\n",
       "      <td>0.910754</td>\n",
       "    </tr>\n",
       "    <tr>\n",
       "      <th>3</th>\n",
       "      <td>Random Forest classifier</td>\n",
       "      <td>0.885584</td>\n",
       "      <td>0.889908</td>\n",
       "      <td>0.897887</td>\n",
       "      <td>0.892366</td>\n",
       "      <td>0.889220</td>\n",
       "    </tr>\n",
       "    <tr>\n",
       "      <th>4</th>\n",
       "      <td>Ada-boost classifier</td>\n",
       "      <td>0.883295</td>\n",
       "      <td>0.862385</td>\n",
       "      <td>0.868006</td>\n",
       "      <td>0.866204</td>\n",
       "      <td>0.865552</td>\n",
       "    </tr>\n",
       "    <tr>\n",
       "      <th>5</th>\n",
       "      <td>KNN classifier</td>\n",
       "      <td>0.881007</td>\n",
       "      <td>0.908257</td>\n",
       "      <td>0.914141</td>\n",
       "      <td>0.910621</td>\n",
       "      <td>0.910714</td>\n",
       "    </tr>\n",
       "    <tr>\n",
       "      <th>6</th>\n",
       "      <td>Stacked classifier</td>\n",
       "      <td>0.938215</td>\n",
       "      <td>0.899083</td>\n",
       "      <td>0.902422</td>\n",
       "      <td>0.902086</td>\n",
       "      <td>0.902153</td>\n",
       "    </tr>\n",
       "  </tbody>\n",
       "</table>\n",
       "</div>"
      ],
      "text/plain": [
       "                     Models  Accuracy(train)  Accuracy(test)  Precision  \\\n",
       "0       Logistic Regression         0.850725        0.827807   0.827494   \n",
       "1            Gaussian Model         0.862638        0.844270   0.847769   \n",
       "2  Decision Tree classifier         0.922197        0.908257   0.913124   \n",
       "3  Random Forest classifier         0.885584        0.889908   0.897887   \n",
       "4      Ada-boost classifier         0.883295        0.862385   0.868006   \n",
       "5            KNN classifier         0.881007        0.908257   0.914141   \n",
       "6        Stacked classifier         0.938215        0.899083   0.902422   \n",
       "\n",
       "     Recall  F1 score  \n",
       "0  0.830879  0.826480  \n",
       "1  0.844599  0.843987  \n",
       "2  0.909826  0.910754  \n",
       "3  0.892366  0.889220  \n",
       "4  0.866204  0.865552  \n",
       "5  0.910621  0.910714  \n",
       "6  0.902086  0.902153  "
      ]
     },
     "execution_count": 165,
     "metadata": {},
     "output_type": "execute_result"
    }
   ],
   "source": [
    "final_results=pd.DataFrame()\n",
    "for i in range(0,len(model_list)):\n",
    "    x=[[model_list[i],accuracy_train[i],accuracy_test[i],precision[i],recall[i],f1_scores[i]]]\n",
    "    new=pd.DataFrame(x)\n",
    "    final_results=pd.concat([final_results,new],axis=0)\n",
    "final_results.columns=metric_list\n",
    "final_results=final_results.reset_index(drop=True)  \n",
    "final_results"
   ]
  },
  {
   "cell_type": "code",
   "execution_count": 166,
   "id": "3535d300",
   "metadata": {},
   "outputs": [
    {
     "data": {
      "image/png": "[encoded data removed]",
      "text/plain": [
       "<Figure size 640x480 with 1 Axes>"
      ]
     },
     "metadata": {},
     "output_type": "display_data"
    }
   ],
   "source": [
    "results=final_results.sort_values(\"Accuracy(test)\",ascending=False)\n",
    "sns.barplot(x=\"Accuracy(test)\",y=\"Models\",data=results)\n",
    "plt.title(\"Best Models on Accuracy(test)\")\n",
    "plt.show()"
   ]
  },
  {
   "cell_type": "code",
   "execution_count": 167,
   "id": "777ef9fd",
   "metadata": {},
   "outputs": [
    {
     "data": {
      "image/png": "[encoded data removed]",
      "text/plain": [
       "<Figure size 800x400 with 5 Axes>"
      ]
     },
     "metadata": {},
     "output_type": "display_data"
    }
   ],
   "source": [
    "fig,ax=plt.subplots(1,5,figsize=(8,4))\n",
    "\n",
    "sns.heatmap(final_results[[\"Accuracy(train)\"]],annot=True,yticklabels=model_list,ax=ax[0],cbar=False)\n",
    "sns.heatmap(final_results[[\"Accuracy(test)\"]],annot=True,ax=ax[1],yticklabels=False,cbar=False,cmap=\"Greens\")\n",
    "sns.heatmap(final_results[[\"Precision\"]],annot=True,ax=ax[2],yticklabels=False,cbar=False)\n",
    "sns.heatmap(final_results[[\"Recall\"]],annot=True,ax=ax[3],yticklabels=False,cbar=False)\n",
    "sns.heatmap(final_results[[\"F1 score\"]],annot=True,ax=ax[4],yticklabels=False,cbar=False)\n",
    "plt.show()"
   ]
  },
  {
   "cell_type": "code",
   "execution_count": null,
   "id": "6bc43d1f",
   "metadata": {},
   "outputs": [],
   "source": []
  },
  {
   "cell_type": "code",
   "execution_count": null,
   "id": "72c258e3",
   "metadata": {},
   "outputs": [],
   "source": []
  }
 ],
 "metadata": {
  "kernelspec": {
   "display_name": "Python 3 (ipykernel)",
   "language": "python",
   "name": "python3"
  },
  "language_info": {
   "codemirror_mode": {
    "name": "ipython",
    "version": 3
   },
   "file_extension": ".py",
   "mimetype": "text/x-python",
   "name": "python",
   "nbconvert_exporter": "python",
   "pygments_lexer": "ipython3",
   "version": "3.9.13"
  }
 },
 "nbformat": 4,
 "nbformat_minor": 5
}
